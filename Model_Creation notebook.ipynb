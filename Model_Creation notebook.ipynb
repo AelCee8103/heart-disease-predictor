{
 "cells": [
  {
   "cell_type": "markdown",
   "id": "ceb1b232",
   "metadata": {},
   "source": [
    "# Loading the Dataset"
   ]
  },
  {
   "cell_type": "code",
   "execution_count": 103,
   "id": "c76e982a",
   "metadata": {},
   "outputs": [
    {
     "data": {
      "application/vnd.microsoft.datawrangler.viewer.v0+json": {
       "columns": [
        {
         "name": "index",
         "rawType": "int64",
         "type": "integer"
        },
        {
         "name": "HeartDisease",
         "rawType": "object",
         "type": "string"
        },
        {
         "name": "BMI",
         "rawType": "float64",
         "type": "float"
        },
        {
         "name": "Smoking",
         "rawType": "object",
         "type": "string"
        },
        {
         "name": "AlcoholDrinking",
         "rawType": "object",
         "type": "string"
        },
        {
         "name": "Stroke",
         "rawType": "object",
         "type": "string"
        },
        {
         "name": "PhysicalHealth",
         "rawType": "float64",
         "type": "float"
        },
        {
         "name": "MentalHealth",
         "rawType": "float64",
         "type": "float"
        },
        {
         "name": "DiffWalking",
         "rawType": "object",
         "type": "string"
        },
        {
         "name": "Sex",
         "rawType": "object",
         "type": "string"
        },
        {
         "name": "AgeCategory",
         "rawType": "object",
         "type": "string"
        },
        {
         "name": "Race",
         "rawType": "object",
         "type": "string"
        },
        {
         "name": "Diabetic",
         "rawType": "object",
         "type": "string"
        },
        {
         "name": "PhysicalActivity",
         "rawType": "object",
         "type": "string"
        },
        {
         "name": "GenHealth",
         "rawType": "object",
         "type": "string"
        },
        {
         "name": "SleepTime",
         "rawType": "float64",
         "type": "float"
        },
        {
         "name": "Asthma",
         "rawType": "object",
         "type": "string"
        },
        {
         "name": "KidneyDisease",
         "rawType": "object",
         "type": "string"
        },
        {
         "name": "SkinCancer",
         "rawType": "object",
         "type": "string"
        }
       ],
       "ref": "5c04e376-4ca1-4d35-87c9-0ccd14216db7",
       "rows": [
        [
         "0",
         "No",
         "16.6",
         "yes",
         "No",
         "No",
         "3.0",
         "30.0",
         "No",
         "Female",
         "55-59",
         "White",
         "Yes",
         "Yes",
         "Very good",
         "5.0",
         "Yes",
         "No",
         "Yes"
        ],
        [
         "1",
         "No",
         "20.34",
         "no",
         "No",
         "Yes",
         "0.0",
         "0.0",
         "No",
         "Female",
         "80 or older",
         "White",
         "No",
         "Yes",
         "Very good",
         "7.0",
         "No",
         "No",
         "No"
        ],
        [
         "2",
         "No",
         "26.58",
         "yes",
         "No",
         "No",
         "20.0",
         "30.0",
         "No",
         "Male",
         "65-69",
         "White",
         "Yes",
         "Yes",
         "Fair",
         "8.0",
         "Yes",
         "No",
         "No"
        ],
        [
         "3",
         "No",
         "24.21",
         "no",
         "No",
         "No",
         "0.0",
         "0.0",
         "No",
         "Female",
         "75-79",
         "White",
         "No",
         "No",
         "Good",
         "6.0",
         "No",
         "No",
         "Yes"
        ],
        [
         "4",
         "No",
         "23.71",
         "no",
         "No",
         "No",
         "28.0",
         "0.0",
         "Yes",
         "Female",
         "40-44",
         "White",
         "No",
         "Yes",
         "Very good",
         "8.0",
         "No",
         "No",
         "No"
        ]
       ],
       "shape": {
        "columns": 18,
        "rows": 5
       }
      },
      "text/html": [
       "<div>\n",
       "<style scoped>\n",
       "    .dataframe tbody tr th:only-of-type {\n",
       "        vertical-align: middle;\n",
       "    }\n",
       "\n",
       "    .dataframe tbody tr th {\n",
       "        vertical-align: top;\n",
       "    }\n",
       "\n",
       "    .dataframe thead th {\n",
       "        text-align: right;\n",
       "    }\n",
       "</style>\n",
       "<table border=\"1\" class=\"dataframe\">\n",
       "  <thead>\n",
       "    <tr style=\"text-align: right;\">\n",
       "      <th></th>\n",
       "      <th>HeartDisease</th>\n",
       "      <th>BMI</th>\n",
       "      <th>Smoking</th>\n",
       "      <th>AlcoholDrinking</th>\n",
       "      <th>Stroke</th>\n",
       "      <th>PhysicalHealth</th>\n",
       "      <th>MentalHealth</th>\n",
       "      <th>DiffWalking</th>\n",
       "      <th>Sex</th>\n",
       "      <th>AgeCategory</th>\n",
       "      <th>Race</th>\n",
       "      <th>Diabetic</th>\n",
       "      <th>PhysicalActivity</th>\n",
       "      <th>GenHealth</th>\n",
       "      <th>SleepTime</th>\n",
       "      <th>Asthma</th>\n",
       "      <th>KidneyDisease</th>\n",
       "      <th>SkinCancer</th>\n",
       "    </tr>\n",
       "  </thead>\n",
       "  <tbody>\n",
       "    <tr>\n",
       "      <th>0</th>\n",
       "      <td>No</td>\n",
       "      <td>16.60</td>\n",
       "      <td>yes</td>\n",
       "      <td>No</td>\n",
       "      <td>No</td>\n",
       "      <td>3.0</td>\n",
       "      <td>30.0</td>\n",
       "      <td>No</td>\n",
       "      <td>Female</td>\n",
       "      <td>55-59</td>\n",
       "      <td>White</td>\n",
       "      <td>Yes</td>\n",
       "      <td>Yes</td>\n",
       "      <td>Very good</td>\n",
       "      <td>5.0</td>\n",
       "      <td>Yes</td>\n",
       "      <td>No</td>\n",
       "      <td>Yes</td>\n",
       "    </tr>\n",
       "    <tr>\n",
       "      <th>1</th>\n",
       "      <td>No</td>\n",
       "      <td>20.34</td>\n",
       "      <td>no</td>\n",
       "      <td>No</td>\n",
       "      <td>Yes</td>\n",
       "      <td>0.0</td>\n",
       "      <td>0.0</td>\n",
       "      <td>No</td>\n",
       "      <td>Female</td>\n",
       "      <td>80 or older</td>\n",
       "      <td>White</td>\n",
       "      <td>No</td>\n",
       "      <td>Yes</td>\n",
       "      <td>Very good</td>\n",
       "      <td>7.0</td>\n",
       "      <td>No</td>\n",
       "      <td>No</td>\n",
       "      <td>No</td>\n",
       "    </tr>\n",
       "    <tr>\n",
       "      <th>2</th>\n",
       "      <td>No</td>\n",
       "      <td>26.58</td>\n",
       "      <td>yes</td>\n",
       "      <td>No</td>\n",
       "      <td>No</td>\n",
       "      <td>20.0</td>\n",
       "      <td>30.0</td>\n",
       "      <td>No</td>\n",
       "      <td>Male</td>\n",
       "      <td>65-69</td>\n",
       "      <td>White</td>\n",
       "      <td>Yes</td>\n",
       "      <td>Yes</td>\n",
       "      <td>Fair</td>\n",
       "      <td>8.0</td>\n",
       "      <td>Yes</td>\n",
       "      <td>No</td>\n",
       "      <td>No</td>\n",
       "    </tr>\n",
       "    <tr>\n",
       "      <th>3</th>\n",
       "      <td>No</td>\n",
       "      <td>24.21</td>\n",
       "      <td>no</td>\n",
       "      <td>No</td>\n",
       "      <td>No</td>\n",
       "      <td>0.0</td>\n",
       "      <td>0.0</td>\n",
       "      <td>No</td>\n",
       "      <td>Female</td>\n",
       "      <td>75-79</td>\n",
       "      <td>White</td>\n",
       "      <td>No</td>\n",
       "      <td>No</td>\n",
       "      <td>Good</td>\n",
       "      <td>6.0</td>\n",
       "      <td>No</td>\n",
       "      <td>No</td>\n",
       "      <td>Yes</td>\n",
       "    </tr>\n",
       "    <tr>\n",
       "      <th>4</th>\n",
       "      <td>No</td>\n",
       "      <td>23.71</td>\n",
       "      <td>no</td>\n",
       "      <td>No</td>\n",
       "      <td>No</td>\n",
       "      <td>28.0</td>\n",
       "      <td>0.0</td>\n",
       "      <td>Yes</td>\n",
       "      <td>Female</td>\n",
       "      <td>40-44</td>\n",
       "      <td>White</td>\n",
       "      <td>No</td>\n",
       "      <td>Yes</td>\n",
       "      <td>Very good</td>\n",
       "      <td>8.0</td>\n",
       "      <td>No</td>\n",
       "      <td>No</td>\n",
       "      <td>No</td>\n",
       "    </tr>\n",
       "  </tbody>\n",
       "</table>\n",
       "</div>"
      ],
      "text/plain": [
       "  HeartDisease    BMI Smoking AlcoholDrinking Stroke  PhysicalHealth  \\\n",
       "0           No  16.60     yes              No     No             3.0   \n",
       "1           No  20.34      no              No    Yes             0.0   \n",
       "2           No  26.58     yes              No     No            20.0   \n",
       "3           No  24.21      no              No     No             0.0   \n",
       "4           No  23.71      no              No     No            28.0   \n",
       "\n",
       "   MentalHealth DiffWalking     Sex  AgeCategory   Race Diabetic  \\\n",
       "0          30.0          No  Female        55-59  White      Yes   \n",
       "1           0.0          No  Female  80 or older  White       No   \n",
       "2          30.0          No    Male        65-69  White      Yes   \n",
       "3           0.0          No  Female        75-79  White       No   \n",
       "4           0.0         Yes  Female        40-44  White       No   \n",
       "\n",
       "  PhysicalActivity  GenHealth  SleepTime Asthma KidneyDisease SkinCancer  \n",
       "0              Yes  Very good        5.0    Yes            No        Yes  \n",
       "1              Yes  Very good        7.0     No            No         No  \n",
       "2              Yes       Fair        8.0    Yes            No         No  \n",
       "3               No       Good        6.0     No            No        Yes  \n",
       "4              Yes  Very good        8.0     No            No         No  "
      ]
     },
     "execution_count": 103,
     "metadata": {},
     "output_type": "execute_result"
    }
   ],
   "source": [
    "import pandas as pd\n",
    "df = pd.read_csv('heart.csv')\n",
    "\n",
    "df.head()"
   ]
  },
  {
   "cell_type": "code",
   "execution_count": 104,
   "id": "66328230",
   "metadata": {},
   "outputs": [
    {
     "data": {
      "application/vnd.microsoft.datawrangler.viewer.v0+json": {
       "columns": [
        {
         "name": "index",
         "rawType": "int64",
         "type": "integer"
        },
        {
         "name": "HeartDisease",
         "rawType": "object",
         "type": "string"
        },
        {
         "name": "BMI",
         "rawType": "float64",
         "type": "float"
        },
        {
         "name": "Smoking",
         "rawType": "object",
         "type": "string"
        },
        {
         "name": "AlcoholDrinking",
         "rawType": "object",
         "type": "string"
        },
        {
         "name": "Stroke",
         "rawType": "object",
         "type": "string"
        },
        {
         "name": "PhysicalHealth",
         "rawType": "float64",
         "type": "float"
        },
        {
         "name": "MentalHealth",
         "rawType": "float64",
         "type": "float"
        },
        {
         "name": "DiffWalking",
         "rawType": "object",
         "type": "string"
        },
        {
         "name": "Sex",
         "rawType": "object",
         "type": "string"
        },
        {
         "name": "AgeCategory",
         "rawType": "object",
         "type": "string"
        },
        {
         "name": "Diabetic",
         "rawType": "object",
         "type": "string"
        },
        {
         "name": "PhysicalActivity",
         "rawType": "object",
         "type": "string"
        },
        {
         "name": "GenHealth",
         "rawType": "object",
         "type": "string"
        },
        {
         "name": "SleepTime",
         "rawType": "float64",
         "type": "float"
        },
        {
         "name": "Asthma",
         "rawType": "object",
         "type": "string"
        },
        {
         "name": "KidneyDisease",
         "rawType": "object",
         "type": "string"
        },
        {
         "name": "SkinCancer",
         "rawType": "object",
         "type": "string"
        }
       ],
       "ref": "e23f1e8a-32d9-4836-955e-beddda7594b8",
       "rows": [
        [
         "0",
         "No",
         "16.6",
         "yes",
         "No",
         "No",
         "3.0",
         "30.0",
         "No",
         "Female",
         "55-59",
         "Yes",
         "Yes",
         "Very good",
         "5.0",
         "Yes",
         "No",
         "Yes"
        ],
        [
         "1",
         "No",
         "20.34",
         "no",
         "No",
         "Yes",
         "0.0",
         "0.0",
         "No",
         "Female",
         "80 or older",
         "No",
         "Yes",
         "Very good",
         "7.0",
         "No",
         "No",
         "No"
        ],
        [
         "2",
         "No",
         "26.58",
         "yes",
         "No",
         "No",
         "20.0",
         "30.0",
         "No",
         "Male",
         "65-69",
         "Yes",
         "Yes",
         "Fair",
         "8.0",
         "Yes",
         "No",
         "No"
        ],
        [
         "3",
         "No",
         "24.21",
         "no",
         "No",
         "No",
         "0.0",
         "0.0",
         "No",
         "Female",
         "75-79",
         "No",
         "No",
         "Good",
         "6.0",
         "No",
         "No",
         "Yes"
        ],
        [
         "4",
         "No",
         "23.71",
         "no",
         "No",
         "No",
         "28.0",
         "0.0",
         "Yes",
         "Female",
         "40-44",
         "No",
         "Yes",
         "Very good",
         "8.0",
         "No",
         "No",
         "No"
        ]
       ],
       "shape": {
        "columns": 17,
        "rows": 5
       }
      },
      "text/html": [
       "<div>\n",
       "<style scoped>\n",
       "    .dataframe tbody tr th:only-of-type {\n",
       "        vertical-align: middle;\n",
       "    }\n",
       "\n",
       "    .dataframe tbody tr th {\n",
       "        vertical-align: top;\n",
       "    }\n",
       "\n",
       "    .dataframe thead th {\n",
       "        text-align: right;\n",
       "    }\n",
       "</style>\n",
       "<table border=\"1\" class=\"dataframe\">\n",
       "  <thead>\n",
       "    <tr style=\"text-align: right;\">\n",
       "      <th></th>\n",
       "      <th>HeartDisease</th>\n",
       "      <th>BMI</th>\n",
       "      <th>Smoking</th>\n",
       "      <th>AlcoholDrinking</th>\n",
       "      <th>Stroke</th>\n",
       "      <th>PhysicalHealth</th>\n",
       "      <th>MentalHealth</th>\n",
       "      <th>DiffWalking</th>\n",
       "      <th>Sex</th>\n",
       "      <th>AgeCategory</th>\n",
       "      <th>Diabetic</th>\n",
       "      <th>PhysicalActivity</th>\n",
       "      <th>GenHealth</th>\n",
       "      <th>SleepTime</th>\n",
       "      <th>Asthma</th>\n",
       "      <th>KidneyDisease</th>\n",
       "      <th>SkinCancer</th>\n",
       "    </tr>\n",
       "  </thead>\n",
       "  <tbody>\n",
       "    <tr>\n",
       "      <th>0</th>\n",
       "      <td>No</td>\n",
       "      <td>16.60</td>\n",
       "      <td>yes</td>\n",
       "      <td>No</td>\n",
       "      <td>No</td>\n",
       "      <td>3.0</td>\n",
       "      <td>30.0</td>\n",
       "      <td>No</td>\n",
       "      <td>Female</td>\n",
       "      <td>55-59</td>\n",
       "      <td>Yes</td>\n",
       "      <td>Yes</td>\n",
       "      <td>Very good</td>\n",
       "      <td>5.0</td>\n",
       "      <td>Yes</td>\n",
       "      <td>No</td>\n",
       "      <td>Yes</td>\n",
       "    </tr>\n",
       "    <tr>\n",
       "      <th>1</th>\n",
       "      <td>No</td>\n",
       "      <td>20.34</td>\n",
       "      <td>no</td>\n",
       "      <td>No</td>\n",
       "      <td>Yes</td>\n",
       "      <td>0.0</td>\n",
       "      <td>0.0</td>\n",
       "      <td>No</td>\n",
       "      <td>Female</td>\n",
       "      <td>80 or older</td>\n",
       "      <td>No</td>\n",
       "      <td>Yes</td>\n",
       "      <td>Very good</td>\n",
       "      <td>7.0</td>\n",
       "      <td>No</td>\n",
       "      <td>No</td>\n",
       "      <td>No</td>\n",
       "    </tr>\n",
       "    <tr>\n",
       "      <th>2</th>\n",
       "      <td>No</td>\n",
       "      <td>26.58</td>\n",
       "      <td>yes</td>\n",
       "      <td>No</td>\n",
       "      <td>No</td>\n",
       "      <td>20.0</td>\n",
       "      <td>30.0</td>\n",
       "      <td>No</td>\n",
       "      <td>Male</td>\n",
       "      <td>65-69</td>\n",
       "      <td>Yes</td>\n",
       "      <td>Yes</td>\n",
       "      <td>Fair</td>\n",
       "      <td>8.0</td>\n",
       "      <td>Yes</td>\n",
       "      <td>No</td>\n",
       "      <td>No</td>\n",
       "    </tr>\n",
       "    <tr>\n",
       "      <th>3</th>\n",
       "      <td>No</td>\n",
       "      <td>24.21</td>\n",
       "      <td>no</td>\n",
       "      <td>No</td>\n",
       "      <td>No</td>\n",
       "      <td>0.0</td>\n",
       "      <td>0.0</td>\n",
       "      <td>No</td>\n",
       "      <td>Female</td>\n",
       "      <td>75-79</td>\n",
       "      <td>No</td>\n",
       "      <td>No</td>\n",
       "      <td>Good</td>\n",
       "      <td>6.0</td>\n",
       "      <td>No</td>\n",
       "      <td>No</td>\n",
       "      <td>Yes</td>\n",
       "    </tr>\n",
       "    <tr>\n",
       "      <th>4</th>\n",
       "      <td>No</td>\n",
       "      <td>23.71</td>\n",
       "      <td>no</td>\n",
       "      <td>No</td>\n",
       "      <td>No</td>\n",
       "      <td>28.0</td>\n",
       "      <td>0.0</td>\n",
       "      <td>Yes</td>\n",
       "      <td>Female</td>\n",
       "      <td>40-44</td>\n",
       "      <td>No</td>\n",
       "      <td>Yes</td>\n",
       "      <td>Very good</td>\n",
       "      <td>8.0</td>\n",
       "      <td>No</td>\n",
       "      <td>No</td>\n",
       "      <td>No</td>\n",
       "    </tr>\n",
       "  </tbody>\n",
       "</table>\n",
       "</div>"
      ],
      "text/plain": [
       "  HeartDisease    BMI Smoking AlcoholDrinking Stroke  PhysicalHealth  \\\n",
       "0           No  16.60     yes              No     No             3.0   \n",
       "1           No  20.34      no              No    Yes             0.0   \n",
       "2           No  26.58     yes              No     No            20.0   \n",
       "3           No  24.21      no              No     No             0.0   \n",
       "4           No  23.71      no              No     No            28.0   \n",
       "\n",
       "   MentalHealth DiffWalking     Sex  AgeCategory Diabetic PhysicalActivity  \\\n",
       "0          30.0          No  Female        55-59      Yes              Yes   \n",
       "1           0.0          No  Female  80 or older       No              Yes   \n",
       "2          30.0          No    Male        65-69      Yes              Yes   \n",
       "3           0.0          No  Female        75-79       No               No   \n",
       "4           0.0         Yes  Female        40-44       No              Yes   \n",
       "\n",
       "   GenHealth  SleepTime Asthma KidneyDisease SkinCancer  \n",
       "0  Very good        5.0    Yes            No        Yes  \n",
       "1  Very good        7.0     No            No         No  \n",
       "2       Fair        8.0    Yes            No         No  \n",
       "3       Good        6.0     No            No        Yes  \n",
       "4  Very good        8.0     No            No         No  "
      ]
     },
     "execution_count": 104,
     "metadata": {},
     "output_type": "execute_result"
    }
   ],
   "source": [
    "#Dropping the race columns as they are not needed for the model to avoid biases\n",
    "df = df.drop(columns=['Race'])\n",
    "df.head()"
   ]
  },
  {
   "cell_type": "markdown",
   "id": "e55fee53",
   "metadata": {},
   "source": [
    "# Data Cleaning (Filling Null Values)"
   ]
  },
  {
   "cell_type": "markdown",
   "id": "848f780c",
   "metadata": {},
   "source": [
    "**Checking Null Values**"
   ]
  },
  {
   "cell_type": "code",
   "execution_count": 105,
   "id": "5bf4c626",
   "metadata": {},
   "outputs": [
    {
     "name": "stdout",
     "output_type": "stream",
     "text": [
      "BMI               150\n",
      "PhysicalHealth    120\n",
      "SleepTime         100\n",
      "dtype: int64\n"
     ]
    }
   ],
   "source": [
    "\n",
    "null_counts = df.isnull().sum()\n",
    "print(null_counts[null_counts > 0])"
   ]
  },
  {
   "cell_type": "markdown",
   "id": "33dccb30",
   "metadata": {},
   "source": [
    "**Determining BMI column's skewedness**\n",
    "\n",
    "We Identify if BMI is highly skewed or not. By knowing that, we can decide whether to fill it with mean or median."
   ]
  },
  {
   "cell_type": "markdown",
   "id": "2ee82407",
   "metadata": {},
   "source": [
    "**BMI Histogram**\n",
    "\n",
    "From the graph below, we can see that it is indeed skewed."
   ]
  },
  {
   "cell_type": "code",
   "execution_count": 59,
   "id": "55ec3ef1",
   "metadata": {},
   "outputs": [
    {
     "data": {
      "text/plain": [
       "<Axes: >"
      ]
     },
     "execution_count": 59,
     "metadata": {},
     "output_type": "execute_result"
    },
    {
     "data": {
      "image/png": "[encoded data removed]",
      "text/plain": [
       "<Figure size 640x480 with 1 Axes>"
      ]
     },
     "metadata": {},
     "output_type": "display_data"
    }
   ],
   "source": [
    "df['BMI'].hist(bins=30)\n"
   ]
  },
  {
   "cell_type": "markdown",
   "id": "93b36987",
   "metadata": {},
   "source": [
    "**BMI is highly skewed**\n",
    "the code below shows the skewedness of the column. > ±1 means that it is Highly skewed. Since it is, we will use median to fill this column"
   ]
  },
  {
   "cell_type": "code",
   "execution_count": 60,
   "id": "0f065440",
   "metadata": {},
   "outputs": [
    {
     "data": {
      "text/plain": [
       "1.3321648262016668"
      ]
     },
     "execution_count": 60,
     "metadata": {},
     "output_type": "execute_result"
    }
   ],
   "source": [
    "import pandas as pd\n",
    "\n",
    "df['BMI'].skew()\n",
    "\n"
   ]
  },
  {
   "cell_type": "markdown",
   "id": "f72862b3",
   "metadata": {},
   "source": [
    "**Fill the BMI column with its median**\n",
    "\n",
    "Since there are outliers in this column and that it is highly skewed, I think median is more fitting to fill missing values"
   ]
  },
  {
   "cell_type": "code",
   "execution_count": 106,
   "id": "92497895",
   "metadata": {},
   "outputs": [
    {
     "name": "stderr",
     "output_type": "stream",
     "text": [
      "C:\\Users\\Ael Cee\\AppData\\Local\\Temp\\ipykernel_17688\\3121382399.py:2: FutureWarning: A value is trying to be set on a copy of a DataFrame or Series through chained assignment using an inplace method.\n",
      "The behavior will change in pandas 3.0. This inplace method will never work because the intermediate object on which we are setting values always behaves as a copy.\n",
      "\n",
      "For example, when doing 'df[col].method(value, inplace=True)', try using 'df.method({col: value}, inplace=True)' or df[col] = df[col].method(value) instead, to perform the operation inplace on the original object.\n",
      "\n",
      "\n",
      "  df['BMI'].fillna(bmi_median, inplace=True)\n"
     ]
    }
   ],
   "source": [
    "bmi_median = df['BMI'].median()\n",
    "df['BMI'].fillna(bmi_median, inplace=True)"
   ]
  },
  {
   "cell_type": "markdown",
   "id": "59e8f73a",
   "metadata": {},
   "source": [
    "**PhysicalHealth distribution graph**\n",
    "The graph below shows physical health distribution to get a view of its skewedness. However, from the looks of it, there are way too many zeros. Thus, an outlier exists."
   ]
  },
  {
   "cell_type": "code",
   "execution_count": 62,
   "id": "824f4b1b",
   "metadata": {},
   "outputs": [
    {
     "data": {
      "text/plain": [
       "<Axes: >"
      ]
     },
     "execution_count": 62,
     "metadata": {},
     "output_type": "execute_result"
    },
    {
     "data": {
      "image/png": "[encoded data removed]",
      "text/plain": [
       "<Figure size 640x480 with 1 Axes>"
      ]
     },
     "metadata": {},
     "output_type": "display_data"
    }
   ],
   "source": [
    "\n",
    "# Plotting the distribution of PhysicalHealth to visualize skewedness\n",
    "df['PhysicalHealth'].hist(bins=30)\n"
   ]
  },
  {
   "cell_type": "markdown",
   "id": "028e7124",
   "metadata": {},
   "source": [
    "**Skewedness**\n",
    "\n",
    "Below is PhysicalHealth's skewness. Since 0 is rediculously high compared to other values, the skewedness is very high on this column."
   ]
  },
  {
   "cell_type": "code",
   "execution_count": 63,
   "id": "a350fef2",
   "metadata": {},
   "outputs": [
    {
     "data": {
      "text/plain": [
       "2.604312162603217"
      ]
     },
     "execution_count": 63,
     "metadata": {},
     "output_type": "execute_result"
    }
   ],
   "source": [
    "#compute skewness of PhysicalHealth\n",
    "df['PhysicalHealth'].skew()"
   ]
  },
  {
   "cell_type": "markdown",
   "id": "2d382f6c",
   "metadata": {},
   "source": [
    "**Fill missing PhysicalHealth with median**\n",
    "\n",
    "Since skewness is very high, it is not fitting to use mean to fill missing values. Therefore we will fill it with the column's median"
   ]
  },
  {
   "cell_type": "code",
   "execution_count": 107,
   "id": "07417ff2",
   "metadata": {},
   "outputs": [
    {
     "name": "stderr",
     "output_type": "stream",
     "text": [
      "C:\\Users\\Ael Cee\\AppData\\Local\\Temp\\ipykernel_17688\\1420530889.py:1: FutureWarning: A value is trying to be set on a copy of a DataFrame or Series through chained assignment using an inplace method.\n",
      "The behavior will change in pandas 3.0. This inplace method will never work because the intermediate object on which we are setting values always behaves as a copy.\n",
      "\n",
      "For example, when doing 'df[col].method(value, inplace=True)', try using 'df.method({col: value}, inplace=True)' or df[col] = df[col].method(value) instead, to perform the operation inplace on the original object.\n",
      "\n",
      "\n",
      "  df['PhysicalHealth'].fillna(df['PhysicalHealth'].median(), inplace=True)\n"
     ]
    }
   ],
   "source": [
    "df['PhysicalHealth'].fillna(df['PhysicalHealth'].median(), inplace=True)"
   ]
  },
  {
   "cell_type": "markdown",
   "id": "d465455a",
   "metadata": {},
   "source": [
    "**SleepTime Histogram**\n",
    "\n",
    "The histogram below visualizes the distribution of the SleepTime column, helping us assess its skewness and identify potential outliers.\n"
   ]
  },
  {
   "cell_type": "code",
   "execution_count": 65,
   "id": "e202e8eb",
   "metadata": {},
   "outputs": [
    {
     "data": {
      "text/plain": [
       "<Axes: >"
      ]
     },
     "execution_count": 65,
     "metadata": {},
     "output_type": "execute_result"
    },
    {
     "data": {
      "image/png": "[encoded data removed]",
      "text/plain": [
       "<Figure size 640x480 with 1 Axes>"
      ]
     },
     "metadata": {},
     "output_type": "display_data"
    }
   ],
   "source": [
    "# Plotting the distribution of SleepTime to visualize skewedness\n",
    "df['SleepTime'].hist(bins=30)"
   ]
  },
  {
   "cell_type": "markdown",
   "id": "08c6fd36",
   "metadata": {},
   "source": [
    "**SleepTime Skewness**\n",
    "\n",
    "SleepTime is skewed to the right. But it is not as high as other two columns. Also, there are outliers but none are extreme from the looks of the graph. Its skewness is less than positive or negative one, thus we can use the mean to fill missing values in SleepTime, as it is less affected by outliers in this case."
   ]
  },
  {
   "cell_type": "code",
   "execution_count": 66,
   "id": "db9edcd4",
   "metadata": {},
   "outputs": [
    {
     "data": {
      "text/plain": [
       "0.6790370458400766"
      ]
     },
     "execution_count": 66,
     "metadata": {},
     "output_type": "execute_result"
    }
   ],
   "source": [
    "# Compute SleepTime skewness\n",
    "df['SleepTime'].skew()"
   ]
  },
  {
   "cell_type": "markdown",
   "id": "f86eb6be",
   "metadata": {},
   "source": [
    "**SleepTime mean and median comparison**\n",
    "\n",
    "The mean and median values for SleepTime are very close (Mean: 7.10, Median: 7.0). This indicates that the distribution of SleepTime is approximately symmetric with only mild skewness. Therefore, using the mean to fill missing values in SleepTime is appropriate, as it is not significantly affected by outliers in this case."
   ]
  },
  {
   "cell_type": "code",
   "execution_count": 108,
   "id": "4e15f21e",
   "metadata": {},
   "outputs": [
    {
     "name": "stdout",
     "output_type": "stream",
     "text": [
      "SleepTime Mean: 7.097133205086098, SleepTime Median: 7.0\n"
     ]
    }
   ],
   "source": [
    "\n",
    "# Comparing sleeptime mean and median\n",
    "sleep_timee_mean = df['SleepTime'].mean()\n",
    "sleep_timee_median = df['SleepTime'].median()\n",
    "print(f\"SleepTime Mean: {sleep_timee_mean}, SleepTime Median: {sleep_timee_median}\")"
   ]
  },
  {
   "cell_type": "markdown",
   "id": "c2706a69",
   "metadata": {},
   "source": [
    "**Fill Missing SleepTime with Mean**"
   ]
  },
  {
   "cell_type": "code",
   "execution_count": 109,
   "id": "195182eb",
   "metadata": {},
   "outputs": [
    {
     "name": "stderr",
     "output_type": "stream",
     "text": [
      "C:\\Users\\Ael Cee\\AppData\\Local\\Temp\\ipykernel_17688\\3682283788.py:1: FutureWarning: A value is trying to be set on a copy of a DataFrame or Series through chained assignment using an inplace method.\n",
      "The behavior will change in pandas 3.0. This inplace method will never work because the intermediate object on which we are setting values always behaves as a copy.\n",
      "\n",
      "For example, when doing 'df[col].method(value, inplace=True)', try using 'df.method({col: value}, inplace=True)' or df[col] = df[col].method(value) instead, to perform the operation inplace on the original object.\n",
      "\n",
      "\n",
      "  df['SleepTime'].fillna(sleep_timee_mean, inplace=True)\n"
     ]
    }
   ],
   "source": [
    "df['SleepTime'].fillna(sleep_timee_mean, inplace=True)"
   ]
  },
  {
   "cell_type": "markdown",
   "id": "cfbe969a",
   "metadata": {},
   "source": [
    "**Check if there still columns that has null values**\n",
    "\n",
    "From the looks of it, there are no more columns with null values"
   ]
  },
  {
   "cell_type": "code",
   "execution_count": 69,
   "id": "7f4ef9f3",
   "metadata": {},
   "outputs": [
    {
     "data": {
      "application/vnd.microsoft.datawrangler.viewer.v0+json": {
       "columns": [
        {
         "name": "index",
         "rawType": "object",
         "type": "string"
        },
        {
         "name": "0",
         "rawType": "int64",
         "type": "integer"
        }
       ],
       "ref": "1b6b17c8-cdf6-443f-8955-1a18c670093a",
       "rows": [
        [
         "HeartDisease",
         "0"
        ],
        [
         "BMI",
         "0"
        ],
        [
         "Smoking",
         "0"
        ],
        [
         "AlcoholDrinking",
         "0"
        ],
        [
         "Stroke",
         "0"
        ],
        [
         "PhysicalHealth",
         "0"
        ],
        [
         "MentalHealth",
         "0"
        ],
        [
         "DiffWalking",
         "0"
        ],
        [
         "Sex",
         "0"
        ],
        [
         "AgeCategory",
         "0"
        ],
        [
         "Diabetic",
         "0"
        ],
        [
         "PhysicalActivity",
         "0"
        ],
        [
         "GenHealth",
         "0"
        ],
        [
         "SleepTime",
         "0"
        ],
        [
         "Asthma",
         "0"
        ],
        [
         "KidneyDisease",
         "0"
        ],
        [
         "SkinCancer",
         "0"
        ]
       ],
       "shape": {
        "columns": 1,
        "rows": 17
       }
      },
      "text/plain": [
       "HeartDisease        0\n",
       "BMI                 0\n",
       "Smoking             0\n",
       "AlcoholDrinking     0\n",
       "Stroke              0\n",
       "PhysicalHealth      0\n",
       "MentalHealth        0\n",
       "DiffWalking         0\n",
       "Sex                 0\n",
       "AgeCategory         0\n",
       "Diabetic            0\n",
       "PhysicalActivity    0\n",
       "GenHealth           0\n",
       "SleepTime           0\n",
       "Asthma              0\n",
       "KidneyDisease       0\n",
       "SkinCancer          0\n",
       "dtype: int64"
      ]
     },
     "execution_count": 69,
     "metadata": {},
     "output_type": "execute_result"
    }
   ],
   "source": [
    "df.isnull().sum()"
   ]
  },
  {
   "cell_type": "code",
   "execution_count": 70,
   "id": "44f03c65",
   "metadata": {},
   "outputs": [
    {
     "data": {
      "application/vnd.microsoft.datawrangler.viewer.v0+json": {
       "columns": [
        {
         "name": "index",
         "rawType": "int64",
         "type": "integer"
        },
        {
         "name": "HeartDisease",
         "rawType": "object",
         "type": "string"
        },
        {
         "name": "BMI",
         "rawType": "float64",
         "type": "float"
        },
        {
         "name": "Smoking",
         "rawType": "object",
         "type": "string"
        },
        {
         "name": "AlcoholDrinking",
         "rawType": "object",
         "type": "string"
        },
        {
         "name": "Stroke",
         "rawType": "object",
         "type": "string"
        },
        {
         "name": "PhysicalHealth",
         "rawType": "float64",
         "type": "float"
        },
        {
         "name": "MentalHealth",
         "rawType": "float64",
         "type": "float"
        },
        {
         "name": "DiffWalking",
         "rawType": "object",
         "type": "string"
        },
        {
         "name": "Sex",
         "rawType": "object",
         "type": "string"
        },
        {
         "name": "AgeCategory",
         "rawType": "object",
         "type": "string"
        },
        {
         "name": "Diabetic",
         "rawType": "object",
         "type": "string"
        },
        {
         "name": "PhysicalActivity",
         "rawType": "object",
         "type": "string"
        },
        {
         "name": "GenHealth",
         "rawType": "object",
         "type": "string"
        },
        {
         "name": "SleepTime",
         "rawType": "float64",
         "type": "float"
        },
        {
         "name": "Asthma",
         "rawType": "object",
         "type": "string"
        },
        {
         "name": "KidneyDisease",
         "rawType": "object",
         "type": "string"
        },
        {
         "name": "SkinCancer",
         "rawType": "object",
         "type": "string"
        }
       ],
       "ref": "8e5c3011-4ba5-47b1-bdc2-6a248a5a3ebe",
       "rows": [
        [
         "0",
         "No",
         "16.6",
         "yes",
         "No",
         "No",
         "3.0",
         "30.0",
         "No",
         "Female",
         "55-59",
         "Yes",
         "Yes",
         "Very good",
         "5.0",
         "Yes",
         "No",
         "Yes"
        ],
        [
         "1",
         "No",
         "20.34",
         "no",
         "No",
         "Yes",
         "0.0",
         "0.0",
         "No",
         "Female",
         "80 or older",
         "No",
         "Yes",
         "Very good",
         "7.0",
         "No",
         "No",
         "No"
        ],
        [
         "2",
         "No",
         "26.58",
         "yes",
         "No",
         "No",
         "20.0",
         "30.0",
         "No",
         "Male",
         "65-69",
         "Yes",
         "Yes",
         "Fair",
         "8.0",
         "Yes",
         "No",
         "No"
        ],
        [
         "3",
         "No",
         "24.21",
         "no",
         "No",
         "No",
         "0.0",
         "0.0",
         "No",
         "Female",
         "75-79",
         "No",
         "No",
         "Good",
         "6.0",
         "No",
         "No",
         "Yes"
        ],
        [
         "4",
         "No",
         "23.71",
         "no",
         "No",
         "No",
         "28.0",
         "0.0",
         "Yes",
         "Female",
         "40-44",
         "No",
         "Yes",
         "Very good",
         "8.0",
         "No",
         "No",
         "No"
        ]
       ],
       "shape": {
        "columns": 17,
        "rows": 5
       }
      },
      "text/html": [
       "<div>\n",
       "<style scoped>\n",
       "    .dataframe tbody tr th:only-of-type {\n",
       "        vertical-align: middle;\n",
       "    }\n",
       "\n",
       "    .dataframe tbody tr th {\n",
       "        vertical-align: top;\n",
       "    }\n",
       "\n",
       "    .dataframe thead th {\n",
       "        text-align: right;\n",
       "    }\n",
       "</style>\n",
       "<table border=\"1\" class=\"dataframe\">\n",
       "  <thead>\n",
       "    <tr style=\"text-align: right;\">\n",
       "      <th></th>\n",
       "      <th>HeartDisease</th>\n",
       "      <th>BMI</th>\n",
       "      <th>Smoking</th>\n",
       "      <th>AlcoholDrinking</th>\n",
       "      <th>Stroke</th>\n",
       "      <th>PhysicalHealth</th>\n",
       "      <th>MentalHealth</th>\n",
       "      <th>DiffWalking</th>\n",
       "      <th>Sex</th>\n",
       "      <th>AgeCategory</th>\n",
       "      <th>Diabetic</th>\n",
       "      <th>PhysicalActivity</th>\n",
       "      <th>GenHealth</th>\n",
       "      <th>SleepTime</th>\n",
       "      <th>Asthma</th>\n",
       "      <th>KidneyDisease</th>\n",
       "      <th>SkinCancer</th>\n",
       "    </tr>\n",
       "  </thead>\n",
       "  <tbody>\n",
       "    <tr>\n",
       "      <th>0</th>\n",
       "      <td>No</td>\n",
       "      <td>16.60</td>\n",
       "      <td>yes</td>\n",
       "      <td>No</td>\n",
       "      <td>No</td>\n",
       "      <td>3.0</td>\n",
       "      <td>30.0</td>\n",
       "      <td>No</td>\n",
       "      <td>Female</td>\n",
       "      <td>55-59</td>\n",
       "      <td>Yes</td>\n",
       "      <td>Yes</td>\n",
       "      <td>Very good</td>\n",
       "      <td>5.0</td>\n",
       "      <td>Yes</td>\n",
       "      <td>No</td>\n",
       "      <td>Yes</td>\n",
       "    </tr>\n",
       "    <tr>\n",
       "      <th>1</th>\n",
       "      <td>No</td>\n",
       "      <td>20.34</td>\n",
       "      <td>no</td>\n",
       "      <td>No</td>\n",
       "      <td>Yes</td>\n",
       "      <td>0.0</td>\n",
       "      <td>0.0</td>\n",
       "      <td>No</td>\n",
       "      <td>Female</td>\n",
       "      <td>80 or older</td>\n",
       "      <td>No</td>\n",
       "      <td>Yes</td>\n",
       "      <td>Very good</td>\n",
       "      <td>7.0</td>\n",
       "      <td>No</td>\n",
       "      <td>No</td>\n",
       "      <td>No</td>\n",
       "    </tr>\n",
       "    <tr>\n",
       "      <th>2</th>\n",
       "      <td>No</td>\n",
       "      <td>26.58</td>\n",
       "      <td>yes</td>\n",
       "      <td>No</td>\n",
       "      <td>No</td>\n",
       "      <td>20.0</td>\n",
       "      <td>30.0</td>\n",
       "      <td>No</td>\n",
       "      <td>Male</td>\n",
       "      <td>65-69</td>\n",
       "      <td>Yes</td>\n",
       "      <td>Yes</td>\n",
       "      <td>Fair</td>\n",
       "      <td>8.0</td>\n",
       "      <td>Yes</td>\n",
       "      <td>No</td>\n",
       "      <td>No</td>\n",
       "    </tr>\n",
       "    <tr>\n",
       "      <th>3</th>\n",
       "      <td>No</td>\n",
       "      <td>24.21</td>\n",
       "      <td>no</td>\n",
       "      <td>No</td>\n",
       "      <td>No</td>\n",
       "      <td>0.0</td>\n",
       "      <td>0.0</td>\n",
       "      <td>No</td>\n",
       "      <td>Female</td>\n",
       "      <td>75-79</td>\n",
       "      <td>No</td>\n",
       "      <td>No</td>\n",
       "      <td>Good</td>\n",
       "      <td>6.0</td>\n",
       "      <td>No</td>\n",
       "      <td>No</td>\n",
       "      <td>Yes</td>\n",
       "    </tr>\n",
       "    <tr>\n",
       "      <th>4</th>\n",
       "      <td>No</td>\n",
       "      <td>23.71</td>\n",
       "      <td>no</td>\n",
       "      <td>No</td>\n",
       "      <td>No</td>\n",
       "      <td>28.0</td>\n",
       "      <td>0.0</td>\n",
       "      <td>Yes</td>\n",
       "      <td>Female</td>\n",
       "      <td>40-44</td>\n",
       "      <td>No</td>\n",
       "      <td>Yes</td>\n",
       "      <td>Very good</td>\n",
       "      <td>8.0</td>\n",
       "      <td>No</td>\n",
       "      <td>No</td>\n",
       "      <td>No</td>\n",
       "    </tr>\n",
       "  </tbody>\n",
       "</table>\n",
       "</div>"
      ],
      "text/plain": [
       "  HeartDisease    BMI Smoking AlcoholDrinking Stroke  PhysicalHealth  \\\n",
       "0           No  16.60     yes              No     No             3.0   \n",
       "1           No  20.34      no              No    Yes             0.0   \n",
       "2           No  26.58     yes              No     No            20.0   \n",
       "3           No  24.21      no              No     No             0.0   \n",
       "4           No  23.71      no              No     No            28.0   \n",
       "\n",
       "   MentalHealth DiffWalking     Sex  AgeCategory Diabetic PhysicalActivity  \\\n",
       "0          30.0          No  Female        55-59      Yes              Yes   \n",
       "1           0.0          No  Female  80 or older       No              Yes   \n",
       "2          30.0          No    Male        65-69      Yes              Yes   \n",
       "3           0.0          No  Female        75-79       No               No   \n",
       "4           0.0         Yes  Female        40-44       No              Yes   \n",
       "\n",
       "   GenHealth  SleepTime Asthma KidneyDisease SkinCancer  \n",
       "0  Very good        5.0    Yes            No        Yes  \n",
       "1  Very good        7.0     No            No         No  \n",
       "2       Fair        8.0    Yes            No         No  \n",
       "3       Good        6.0     No            No        Yes  \n",
       "4  Very good        8.0     No            No         No  "
      ]
     },
     "execution_count": 70,
     "metadata": {},
     "output_type": "execute_result"
    }
   ],
   "source": [
    "df.head()"
   ]
  },
  {
   "cell_type": "markdown",
   "id": "c3cf272d",
   "metadata": {},
   "source": [
    "# Convert Text to Numerical Values"
   ]
  },
  {
   "cell_type": "markdown",
   "id": "227720e1",
   "metadata": {},
   "source": [
    "**Convert 'Yes/yes' and 'No/no' to 1 and 0**"
   ]
  },
  {
   "cell_type": "markdown",
   "id": "631e26e9",
   "metadata": {},
   "source": [
    "*HeartDisease column*"
   ]
  },
  {
   "cell_type": "code",
   "execution_count": 110,
   "id": "21385a56",
   "metadata": {},
   "outputs": [
    {
     "data": {
      "text/plain": [
       "array(['No', 'Yes'], dtype=object)"
      ]
     },
     "execution_count": 110,
     "metadata": {},
     "output_type": "execute_result"
    }
   ],
   "source": [
    "#Checking the unique values in the HeartDisease column\n",
    "df['HeartDisease'].unique()\n"
   ]
  },
  {
   "cell_type": "code",
   "execution_count": 111,
   "id": "44f28954",
   "metadata": {},
   "outputs": [],
   "source": [
    "#Convert Yes and No to 1 and 0 in the HeartDisease column\n",
    "df['HeartDisease'] = df['HeartDisease'].map({'No': 0, 'Yes': 1})"
   ]
  },
  {
   "cell_type": "code",
   "execution_count": 112,
   "id": "8b219b99",
   "metadata": {},
   "outputs": [
    {
     "data": {
      "text/plain": [
       "array([0, 1], dtype=int64)"
      ]
     },
     "execution_count": 112,
     "metadata": {},
     "output_type": "execute_result"
    }
   ],
   "source": [
    "#Unique values after conversion\n",
    "df['HeartDisease'].unique()"
   ]
  },
  {
   "cell_type": "markdown",
   "id": "ef89822d",
   "metadata": {},
   "source": [
    "*Smoking column*"
   ]
  },
  {
   "cell_type": "code",
   "execution_count": 113,
   "id": "081f3ac5",
   "metadata": {},
   "outputs": [
    {
     "data": {
      "application/vnd.microsoft.datawrangler.viewer.v0+json": {
       "columns": [
        {
         "name": "Smoking",
         "rawType": "object",
         "type": "string"
        },
        {
         "name": "count",
         "rawType": "int64",
         "type": "integer"
        }
       ],
       "ref": "31dc3c5c-2048-4976-b897-8450c64a5bc4",
       "rows": [
        [
         "no",
         "187887"
        ],
        [
         "yes",
         "131908"
        ]
       ],
       "shape": {
        "columns": 1,
        "rows": 2
       }
      },
      "text/plain": [
       "Smoking\n",
       "no     187887\n",
       "yes    131908\n",
       "Name: count, dtype: int64"
      ]
     },
     "execution_count": 113,
     "metadata": {},
     "output_type": "execute_result"
    }
   ],
   "source": [
    "#Checking the unique values in the Smoking column\n",
    "df['Smoking'].unique()\n",
    "df['Smoking'].value_counts()"
   ]
  },
  {
   "cell_type": "code",
   "execution_count": 114,
   "id": "b638115f",
   "metadata": {},
   "outputs": [],
   "source": [
    "# Convert yes and no to 1 and 0 in the Smoking column\n",
    "df['Smoking'] = df['Smoking'].map({'no': 0, 'yes': 1})"
   ]
  },
  {
   "cell_type": "code",
   "execution_count": 115,
   "id": "1504f6c8",
   "metadata": {},
   "outputs": [
    {
     "data": {
      "application/vnd.microsoft.datawrangler.viewer.v0+json": {
       "columns": [
        {
         "name": "Smoking",
         "rawType": "int64",
         "type": "integer"
        },
        {
         "name": "count",
         "rawType": "int64",
         "type": "integer"
        }
       ],
       "ref": "3e999b0c-cbe5-42a0-943b-a8521e93f292",
       "rows": [
        [
         "0",
         "187887"
        ],
        [
         "1",
         "131908"
        ]
       ],
       "shape": {
        "columns": 1,
        "rows": 2
       }
      },
      "text/plain": [
       "Smoking\n",
       "0    187887\n",
       "1    131908\n",
       "Name: count, dtype: int64"
      ]
     },
     "execution_count": 115,
     "metadata": {},
     "output_type": "execute_result"
    }
   ],
   "source": [
    "# Unique values after conversion\n",
    "df['Smoking'].unique()\n",
    "df['Smoking'].value_counts()"
   ]
  },
  {
   "cell_type": "markdown",
   "id": "22a004d6",
   "metadata": {},
   "source": [
    "*AlchoholDrinking column*"
   ]
  },
  {
   "cell_type": "code",
   "execution_count": 116,
   "id": "1b93b73d",
   "metadata": {},
   "outputs": [
    {
     "data": {
      "application/vnd.microsoft.datawrangler.viewer.v0+json": {
       "columns": [
        {
         "name": "AlcoholDrinking",
         "rawType": "object",
         "type": "string"
        },
        {
         "name": "count",
         "rawType": "int64",
         "type": "integer"
        }
       ],
       "ref": "f1b9d867-2e61-4c74-94c4-05c8a1b62412",
       "rows": [
        [
         "No",
         "298018"
        ],
        [
         "Yes",
         "21777"
        ]
       ],
       "shape": {
        "columns": 1,
        "rows": 2
       }
      },
      "text/plain": [
       "AlcoholDrinking\n",
       "No     298018\n",
       "Yes     21777\n",
       "Name: count, dtype: int64"
      ]
     },
     "execution_count": 116,
     "metadata": {},
     "output_type": "execute_result"
    }
   ],
   "source": [
    "#Checking the unique values in the AlcoholDrinking column\n",
    "df['AlcoholDrinking'].unique()\n",
    "df['AlcoholDrinking'].value_counts()"
   ]
  },
  {
   "cell_type": "code",
   "execution_count": 117,
   "id": "fdc3e7b6",
   "metadata": {},
   "outputs": [],
   "source": [
    "# Convert yes and no to 1 and 0 in the Smoking column\n",
    "df['AlcoholDrinking'] = df['AlcoholDrinking'].map({'No': 0, 'Yes': 1})"
   ]
  },
  {
   "cell_type": "code",
   "execution_count": 119,
   "id": "eb23a2ec",
   "metadata": {},
   "outputs": [
    {
     "data": {
      "application/vnd.microsoft.datawrangler.viewer.v0+json": {
       "columns": [
        {
         "name": "AlcoholDrinking",
         "rawType": "int64",
         "type": "integer"
        },
        {
         "name": "count",
         "rawType": "int64",
         "type": "integer"
        }
       ],
       "ref": "d7fdd3f9-d542-409a-bd69-89b3f9e5f470",
       "rows": [
        [
         "0",
         "298018"
        ],
        [
         "1",
         "21777"
        ]
       ],
       "shape": {
        "columns": 1,
        "rows": 2
       }
      },
      "text/plain": [
       "AlcoholDrinking\n",
       "0    298018\n",
       "1     21777\n",
       "Name: count, dtype: int64"
      ]
     },
     "execution_count": 119,
     "metadata": {},
     "output_type": "execute_result"
    }
   ],
   "source": [
    "#Checking the unique values in the AlcoholDrinking column\n",
    "df['AlcoholDrinking'].unique()\n",
    "df['AlcoholDrinking'].value_counts()"
   ]
  },
  {
   "cell_type": "code",
   "execution_count": 120,
   "id": "a5873ba3",
   "metadata": {},
   "outputs": [
    {
     "name": "stdout",
     "output_type": "stream",
     "text": [
      "['Stroke', 'DiffWalking', 'Sex', 'AgeCategory', 'Diabetic', 'PhysicalActivity', 'GenHealth', 'Asthma', 'KidneyDisease', 'SkinCancer']\n"
     ]
    }
   ],
   "source": [
    "categorical_cols = df.select_dtypes(include=['object']).columns.tolist()\n",
    "print(categorical_cols)"
   ]
  },
  {
   "cell_type": "markdown",
   "id": "7bb504e0",
   "metadata": {},
   "source": [
    "*Convert Many at Once*\n",
    "\n",
    "Converting text to numerical in each column one by one will take a while especially with a lot of columns. Thus we will try to look for those columns that have yes or no values then convert them to numerical by running a code in a single cell"
   ]
  },
  {
   "cell_type": "code",
   "execution_count": 121,
   "id": "c474ad9c",
   "metadata": {},
   "outputs": [
    {
     "name": "stdout",
     "output_type": "stream",
     "text": [
      "**Stroke column**\n",
      "\n",
      "# Checking the unique values in the Stroke column\n",
      "['No' 'Yes']\n",
      "Stroke\n",
      "No     307726\n",
      "Yes     12069\n",
      "Name: count, dtype: int64\n",
      "\n",
      "\n",
      "**DiffWalking column**\n",
      "\n",
      "# Checking the unique values in the DiffWalking column\n",
      "['No' 'Yes']\n",
      "DiffWalking\n",
      "No     275385\n",
      "Yes     44410\n",
      "Name: count, dtype: int64\n",
      "\n",
      "\n",
      "**Sex column**\n",
      "\n",
      "# Checking the unique values in the Sex column\n",
      "['Female' 'Male']\n",
      "Sex\n",
      "Female    167805\n",
      "Male      151990\n",
      "Name: count, dtype: int64\n",
      "\n",
      "\n",
      "**AgeCategory column**\n",
      "\n",
      "# Checking the unique values in the AgeCategory column\n",
      "['55-59' '80 or older' '65-69' '75-79' '40-44' '70-74' '60-64' '50-54'\n",
      " '45-49' '18-24' '35-39' '30-34' '25-29']\n",
      "AgeCategory\n",
      "65-69          34151\n",
      "60-64          33686\n",
      "70-74          31065\n",
      "55-59          29757\n",
      "50-54          25382\n",
      "80 or older    24153\n",
      "45-49          21791\n",
      "75-79          21482\n",
      "18-24          21064\n",
      "40-44          21006\n",
      "35-39          20550\n",
      "30-34          18753\n",
      "25-29          16955\n",
      "Name: count, dtype: int64\n",
      "\n",
      "\n",
      "**Diabetic column**\n",
      "\n",
      "# Checking the unique values in the Diabetic column\n",
      "['Yes' 'No' 'No, borderline diabetes' 'Yes (during pregnancy)']\n",
      "Diabetic\n",
      "No                         269653\n",
      "Yes                         40802\n",
      "No, borderline diabetes      6781\n",
      "Yes (during pregnancy)       2559\n",
      "Name: count, dtype: int64\n",
      "\n",
      "\n",
      "**PhysicalActivity column**\n",
      "\n",
      "# Checking the unique values in the PhysicalActivity column\n",
      "['Yes' 'No']\n",
      "PhysicalActivity\n",
      "Yes    247957\n",
      "No      71838\n",
      "Name: count, dtype: int64\n",
      "\n",
      "\n",
      "**GenHealth column**\n",
      "\n",
      "# Checking the unique values in the GenHealth column\n",
      "['Very good' 'Fair' 'Good' 'Poor' 'Excellent']\n",
      "GenHealth\n",
      "Very good    113858\n",
      "Good          93129\n",
      "Excellent     66842\n",
      "Fair          34677\n",
      "Poor          11289\n",
      "Name: count, dtype: int64\n",
      "\n",
      "\n",
      "**Asthma column**\n",
      "\n",
      "# Checking the unique values in the Asthma column\n",
      "['Yes' 'No']\n",
      "Asthma\n",
      "No     276923\n",
      "Yes     42872\n",
      "Name: count, dtype: int64\n",
      "\n",
      "\n",
      "**KidneyDisease column**\n",
      "\n",
      "# Checking the unique values in the KidneyDisease column\n",
      "['No' 'Yes']\n",
      "KidneyDisease\n",
      "No     308016\n",
      "Yes     11779\n",
      "Name: count, dtype: int64\n",
      "\n",
      "\n",
      "**SkinCancer column**\n",
      "\n",
      "# Checking the unique values in the SkinCancer column\n",
      "['Yes' 'No']\n",
      "SkinCancer\n",
      "No     289976\n",
      "Yes     29819\n",
      "Name: count, dtype: int64\n",
      "\n",
      "\n"
     ]
    }
   ],
   "source": [
    "# Loop through each categorical column and display unique values and value counts\n",
    "for col in categorical_cols:\n",
    "    print(f\"**{col} column**\\n\")\n",
    "    print(f\"# Checking the unique values in the {col} column\")\n",
    "    print(df[col].unique())\n",
    "    print(df[col].value_counts())\n",
    "    print(\"\\n\")"
   ]
  },
  {
   "cell_type": "markdown",
   "id": "de04bef8",
   "metadata": {},
   "source": [
    "From the results above, it seems we will not include Diabetic column in converting yes and no to 1 and 0 since it has more than two categories, namely: ['Yes' 'No' 'No, borderline diabetes' 'Yes (during pregnancy)']."
   ]
  },
  {
   "cell_type": "code",
   "execution_count": 122,
   "id": "c7d88edc",
   "metadata": {},
   "outputs": [
    {
     "name": "stderr",
     "output_type": "stream",
     "text": [
      "C:\\Users\\Ael Cee\\AppData\\Local\\Temp\\ipykernel_17688\\4169169865.py:8: FutureWarning: Downcasting behavior in `replace` is deprecated and will be removed in a future version. To retain the old behavior, explicitly call `result.infer_objects(copy=False)`. To opt-in to the future behavior, set `pd.set_option('future.no_silent_downcasting', True)`\n",
      "  df[col] = df[col].replace({'yes': 1, 'Yes': 1, 'no': 0, 'No': 0})\n"
     ]
    }
   ],
   "source": [
    "# Convert 'yes/Yes' and 'no/No' to 1 and 0 for relevant columns except 'Diabetic'\n",
    "yes_no_columns = [\n",
    "    'Smoking', 'AlcoholDrinking', 'Stroke', 'DiffWalking',\n",
    "    'PhysicalActivity', 'Asthma', 'KidneyDisease', 'SkinCancer'\n",
    "]\n",
    "\n",
    "for col in yes_no_columns:\n",
    "    df[col] = df[col].replace({'yes': 1, 'Yes': 1, 'no': 0, 'No': 0})"
   ]
  },
  {
   "cell_type": "code",
   "execution_count": 123,
   "id": "f2d5061b",
   "metadata": {},
   "outputs": [
    {
     "data": {
      "application/vnd.microsoft.datawrangler.viewer.v0+json": {
       "columns": [
        {
         "name": "index",
         "rawType": "int64",
         "type": "integer"
        },
        {
         "name": "Smoking",
         "rawType": "int64",
         "type": "integer"
        },
        {
         "name": "AlcoholDrinking",
         "rawType": "int64",
         "type": "integer"
        },
        {
         "name": "Stroke",
         "rawType": "int64",
         "type": "integer"
        },
        {
         "name": "DiffWalking",
         "rawType": "int64",
         "type": "integer"
        },
        {
         "name": "PhysicalActivity",
         "rawType": "int64",
         "type": "integer"
        },
        {
         "name": "Asthma",
         "rawType": "int64",
         "type": "integer"
        },
        {
         "name": "KidneyDisease",
         "rawType": "int64",
         "type": "integer"
        },
        {
         "name": "SkinCancer",
         "rawType": "int64",
         "type": "integer"
        }
       ],
       "ref": "94280e40-57de-4f6c-8812-a9bf24a2b4df",
       "rows": [
        [
         "0",
         "1",
         "0",
         "0",
         "0",
         "1",
         "1",
         "0",
         "1"
        ],
        [
         "1",
         "0",
         "0",
         "1",
         "0",
         "1",
         "0",
         "0",
         "0"
        ],
        [
         "2",
         "1",
         "0",
         "0",
         "0",
         "1",
         "1",
         "0",
         "0"
        ],
        [
         "3",
         "0",
         "0",
         "0",
         "0",
         "0",
         "0",
         "0",
         "1"
        ],
        [
         "4",
         "0",
         "0",
         "0",
         "1",
         "1",
         "0",
         "0",
         "0"
        ]
       ],
       "shape": {
        "columns": 8,
        "rows": 5
       }
      },
      "text/html": [
       "<div>\n",
       "<style scoped>\n",
       "    .dataframe tbody tr th:only-of-type {\n",
       "        vertical-align: middle;\n",
       "    }\n",
       "\n",
       "    .dataframe tbody tr th {\n",
       "        vertical-align: top;\n",
       "    }\n",
       "\n",
       "    .dataframe thead th {\n",
       "        text-align: right;\n",
       "    }\n",
       "</style>\n",
       "<table border=\"1\" class=\"dataframe\">\n",
       "  <thead>\n",
       "    <tr style=\"text-align: right;\">\n",
       "      <th></th>\n",
       "      <th>Smoking</th>\n",
       "      <th>AlcoholDrinking</th>\n",
       "      <th>Stroke</th>\n",
       "      <th>DiffWalking</th>\n",
       "      <th>PhysicalActivity</th>\n",
       "      <th>Asthma</th>\n",
       "      <th>KidneyDisease</th>\n",
       "      <th>SkinCancer</th>\n",
       "    </tr>\n",
       "  </thead>\n",
       "  <tbody>\n",
       "    <tr>\n",
       "      <th>0</th>\n",
       "      <td>1</td>\n",
       "      <td>0</td>\n",
       "      <td>0</td>\n",
       "      <td>0</td>\n",
       "      <td>1</td>\n",
       "      <td>1</td>\n",
       "      <td>0</td>\n",
       "      <td>1</td>\n",
       "    </tr>\n",
       "    <tr>\n",
       "      <th>1</th>\n",
       "      <td>0</td>\n",
       "      <td>0</td>\n",
       "      <td>1</td>\n",
       "      <td>0</td>\n",
       "      <td>1</td>\n",
       "      <td>0</td>\n",
       "      <td>0</td>\n",
       "      <td>0</td>\n",
       "    </tr>\n",
       "    <tr>\n",
       "      <th>2</th>\n",
       "      <td>1</td>\n",
       "      <td>0</td>\n",
       "      <td>0</td>\n",
       "      <td>0</td>\n",
       "      <td>1</td>\n",
       "      <td>1</td>\n",
       "      <td>0</td>\n",
       "      <td>0</td>\n",
       "    </tr>\n",
       "    <tr>\n",
       "      <th>3</th>\n",
       "      <td>0</td>\n",
       "      <td>0</td>\n",
       "      <td>0</td>\n",
       "      <td>0</td>\n",
       "      <td>0</td>\n",
       "      <td>0</td>\n",
       "      <td>0</td>\n",
       "      <td>1</td>\n",
       "    </tr>\n",
       "    <tr>\n",
       "      <th>4</th>\n",
       "      <td>0</td>\n",
       "      <td>0</td>\n",
       "      <td>0</td>\n",
       "      <td>1</td>\n",
       "      <td>1</td>\n",
       "      <td>0</td>\n",
       "      <td>0</td>\n",
       "      <td>0</td>\n",
       "    </tr>\n",
       "  </tbody>\n",
       "</table>\n",
       "</div>"
      ],
      "text/plain": [
       "   Smoking  AlcoholDrinking  Stroke  DiffWalking  PhysicalActivity  Asthma  \\\n",
       "0        1                0       0            0                 1       1   \n",
       "1        0                0       1            0                 1       0   \n",
       "2        1                0       0            0                 1       1   \n",
       "3        0                0       0            0                 0       0   \n",
       "4        0                0       0            1                 1       0   \n",
       "\n",
       "   KidneyDisease  SkinCancer  \n",
       "0              0           1  \n",
       "1              0           0  \n",
       "2              0           0  \n",
       "3              0           1  \n",
       "4              0           0  "
      ]
     },
     "execution_count": 123,
     "metadata": {},
     "output_type": "execute_result"
    }
   ],
   "source": [
    "# The code below will display the first few rows of the DataFrame with the updated yes_no_columns\n",
    "df[yes_no_columns].head()"
   ]
  },
  {
   "cell_type": "markdown",
   "id": "c741baba",
   "metadata": {},
   "source": [
    "**Mapping Diabetic Column to Numerical Values**\n",
    "\n",
    "The Diabetic column has four categories. We map them as follows for modeling:\n",
    "\n",
    "- 'No' → 0  \n",
    "- 'Yes' → 1  \n",
    "- 'No, borderline diabetes' → 2  \n",
    "- 'Yes (during pregnancy)' → 3\n"
   ]
  },
  {
   "cell_type": "code",
   "execution_count": 124,
   "id": "3736106f",
   "metadata": {},
   "outputs": [
    {
     "data": {
      "application/vnd.microsoft.datawrangler.viewer.v0+json": {
       "columns": [
        {
         "name": "Diabetic",
         "rawType": "object",
         "type": "string"
        },
        {
         "name": "count",
         "rawType": "int64",
         "type": "integer"
        }
       ],
       "ref": "a648f547-c9f7-4b5f-9c29-e744b4946955",
       "rows": [
        [
         "No",
         "269653"
        ],
        [
         "Yes",
         "40802"
        ],
        [
         "No, borderline diabetes",
         "6781"
        ],
        [
         "Yes (during pregnancy)",
         "2559"
        ]
       ],
       "shape": {
        "columns": 1,
        "rows": 4
       }
      },
      "text/plain": [
       "Diabetic\n",
       "No                         269653\n",
       "Yes                         40802\n",
       "No, borderline diabetes      6781\n",
       "Yes (during pregnancy)       2559\n",
       "Name: count, dtype: int64"
      ]
     },
     "execution_count": 124,
     "metadata": {},
     "output_type": "execute_result"
    }
   ],
   "source": [
    "# Diabetic column before mapping\n",
    "df['Diabetic'].unique()\n",
    "df['Diabetic'].value_counts()"
   ]
  },
  {
   "cell_type": "code",
   "execution_count": 125,
   "id": "ef95fa1e",
   "metadata": {},
   "outputs": [],
   "source": [
    "# Map Diabetic column to numerical values\n",
    "df['Diabetic'] = df['Diabetic'].map({\n",
    "    'No': 0,\n",
    "    'Yes': 1,\n",
    "    'No, borderline diabetes': 2,\n",
    "    'Yes (during pregnancy)': 3\n",
    "})"
   ]
  },
  {
   "cell_type": "code",
   "execution_count": 126,
   "id": "21c30825",
   "metadata": {},
   "outputs": [
    {
     "data": {
      "application/vnd.microsoft.datawrangler.viewer.v0+json": {
       "columns": [
        {
         "name": "Diabetic",
         "rawType": "int64",
         "type": "integer"
        },
        {
         "name": "count",
         "rawType": "int64",
         "type": "integer"
        }
       ],
       "ref": "1deaf603-f30e-4924-be63-45ba3c91fa62",
       "rows": [
        [
         "0",
         "269653"
        ],
        [
         "1",
         "40802"
        ],
        [
         "2",
         "6781"
        ],
        [
         "3",
         "2559"
        ]
       ],
       "shape": {
        "columns": 1,
        "rows": 4
       }
      },
      "text/plain": [
       "Diabetic\n",
       "0    269653\n",
       "1     40802\n",
       "2      6781\n",
       "3      2559\n",
       "Name: count, dtype: int64"
      ]
     },
     "execution_count": 126,
     "metadata": {},
     "output_type": "execute_result"
    }
   ],
   "source": [
    "# Diabetic column after mapping\n",
    "df['Diabetic'].unique()\n",
    "df['Diabetic'].value_counts()"
   ]
  },
  {
   "cell_type": "markdown",
   "id": "8196c2a1",
   "metadata": {},
   "source": [
    "Let us see the remaining columns with categorical values below:"
   ]
  },
  {
   "cell_type": "code",
   "execution_count": 128,
   "id": "b5cf37eb",
   "metadata": {},
   "outputs": [
    {
     "name": "stdout",
     "output_type": "stream",
     "text": [
      "**Sex column**\n",
      "\n",
      "# Checking the unique values in the Sex column\n",
      "['Female' 'Male']\n",
      "Sex\n",
      "Female    167805\n",
      "Male      151990\n",
      "Name: count, dtype: int64\n",
      "\n",
      "\n",
      "**AgeCategory column**\n",
      "\n",
      "# Checking the unique values in the AgeCategory column\n",
      "['55-59' '80 or older' '65-69' '75-79' '40-44' '70-74' '60-64' '50-54'\n",
      " '45-49' '18-24' '35-39' '30-34' '25-29']\n",
      "AgeCategory\n",
      "65-69          34151\n",
      "60-64          33686\n",
      "70-74          31065\n",
      "55-59          29757\n",
      "50-54          25382\n",
      "80 or older    24153\n",
      "45-49          21791\n",
      "75-79          21482\n",
      "18-24          21064\n",
      "40-44          21006\n",
      "35-39          20550\n",
      "30-34          18753\n",
      "25-29          16955\n",
      "Name: count, dtype: int64\n",
      "\n",
      "\n",
      "**GenHealth column**\n",
      "\n",
      "# Checking the unique values in the GenHealth column\n",
      "['Very good' 'Fair' 'Good' 'Poor' 'Excellent']\n",
      "GenHealth\n",
      "Very good    113858\n",
      "Good          93129\n",
      "Excellent     66842\n",
      "Fair          34677\n",
      "Poor          11289\n",
      "Name: count, dtype: int64\n",
      "\n",
      "\n"
     ]
    }
   ],
   "source": [
    "categorical_cols = df.select_dtypes(include=['object']).columns.tolist()\n",
    "\n",
    "# Loop through each categorical column and display unique values and value counts\n",
    "for col in categorical_cols:\n",
    "    print(f\"**{col} column**\\n\")\n",
    "    print(f\"# Checking the unique values in the {col} column\")\n",
    "    print(df[col].unique())\n",
    "    print(df[col].value_counts())\n",
    "    print(\"\\n\")"
   ]
  },
  {
   "cell_type": "markdown",
   "id": "df31ae0c",
   "metadata": {},
   "source": [
    "**Converting 'Male' and 'Female' to '1' and '0' in Sex Column**"
   ]
  },
  {
   "cell_type": "code",
   "execution_count": 129,
   "id": "db1cb2e0",
   "metadata": {},
   "outputs": [],
   "source": [
    "# Convert 'Male' to 1 and 'Female' to 0 in the Sex column\n",
    "df['Sex'] = df['Sex'].map({'Male': 1, 'Female': 0})"
   ]
  },
  {
   "cell_type": "code",
   "execution_count": 130,
   "id": "78961ebb",
   "metadata": {},
   "outputs": [
    {
     "data": {
      "application/vnd.microsoft.datawrangler.viewer.v0+json": {
       "columns": [
        {
         "name": "Sex",
         "rawType": "int64",
         "type": "integer"
        },
        {
         "name": "count",
         "rawType": "int64",
         "type": "integer"
        }
       ],
       "ref": "8cd1c553-0270-449e-931f-cc3d9b6316fb",
       "rows": [
        [
         "0",
         "167805"
        ],
        [
         "1",
         "151990"
        ]
       ],
       "shape": {
        "columns": 1,
        "rows": 2
       }
      },
      "text/plain": [
       "Sex\n",
       "0    167805\n",
       "1    151990\n",
       "Name: count, dtype: int64"
      ]
     },
     "execution_count": 130,
     "metadata": {},
     "output_type": "execute_result"
    }
   ],
   "source": [
    "# Sex column after conversion\n",
    "df['Sex'].value_counts()"
   ]
  },
  {
   "cell_type": "markdown",
   "id": "2cc191a8",
   "metadata": {},
   "source": [
    "**Mapping AgeCategory Column to Numerical Values**\n",
    "\n",
    "The AgeCategory column has many categories. This mapping transformation allows machine learning algorithms to interpret the ordinal relationship between the age categories.\n",
    "\n",
    "We map them as follows for modeling:\n",
    "\n"
   ]
  },
  {
   "cell_type": "code",
   "execution_count": 131,
   "id": "503f32d0",
   "metadata": {},
   "outputs": [],
   "source": [
    "# Define the order of age categories\n",
    "age_order = [\n",
    "    '18-24', '25-29', '30-34', '35-39', '40-44', '45-49', '50-54',\n",
    "    '55-59', '60-64', '65-69', '70-74', '75-79', '80 or older'\n",
    "]\n",
    "\n",
    "# Convert AgeCategory to ordered categorical type, then to integer codes\n",
    "df['AgeCategory'] = pd.Categorical(df['AgeCategory'], categories=age_order, ordered=True)\n",
    "df['AgeCategory'] = df['AgeCategory'].cat.codes"
   ]
  },
  {
   "cell_type": "code",
   "execution_count": 132,
   "id": "2c05edf5",
   "metadata": {},
   "outputs": [
    {
     "data": {
      "application/vnd.microsoft.datawrangler.viewer.v0+json": {
       "columns": [
        {
         "name": "AgeCategory",
         "rawType": "int8",
         "type": "integer"
        },
        {
         "name": "count",
         "rawType": "int64",
         "type": "integer"
        }
       ],
       "ref": "fc7dbe02-8b5f-42f0-8591-141d2929739f",
       "rows": [
        [
         "9",
         "34151"
        ],
        [
         "8",
         "33686"
        ],
        [
         "10",
         "31065"
        ],
        [
         "7",
         "29757"
        ],
        [
         "6",
         "25382"
        ],
        [
         "12",
         "24153"
        ],
        [
         "5",
         "21791"
        ],
        [
         "11",
         "21482"
        ],
        [
         "0",
         "21064"
        ],
        [
         "4",
         "21006"
        ],
        [
         "3",
         "20550"
        ],
        [
         "2",
         "18753"
        ],
        [
         "1",
         "16955"
        ]
       ],
       "shape": {
        "columns": 1,
        "rows": 13
       }
      },
      "text/plain": [
       "AgeCategory\n",
       "9     34151\n",
       "8     33686\n",
       "10    31065\n",
       "7     29757\n",
       "6     25382\n",
       "12    24153\n",
       "5     21791\n",
       "11    21482\n",
       "0     21064\n",
       "4     21006\n",
       "3     20550\n",
       "2     18753\n",
       "1     16955\n",
       "Name: count, dtype: int64"
      ]
     },
     "execution_count": 132,
     "metadata": {},
     "output_type": "execute_result"
    }
   ],
   "source": [
    "# AgeCategory after conversion  \n",
    "df['AgeCategory'].value_counts()"
   ]
  },
  {
   "cell_type": "markdown",
   "id": "e6fd97cb",
   "metadata": {},
   "source": [
    "Let's see if there are still columns with categorical values  left:"
   ]
  },
  {
   "cell_type": "code",
   "execution_count": 133,
   "id": "97e83f63",
   "metadata": {},
   "outputs": [
    {
     "name": "stdout",
     "output_type": "stream",
     "text": [
      "Remaining categorical columns: ['GenHealth']\n"
     ]
    },
    {
     "data": {
      "application/vnd.microsoft.datawrangler.viewer.v0+json": {
       "columns": [
        {
         "name": "index",
         "rawType": "int64",
         "type": "integer"
        },
        {
         "name": "GenHealth",
         "rawType": "object",
         "type": "string"
        }
       ],
       "ref": "c195cd11-534c-4c84-aeed-082a70264a93",
       "rows": [
        [
         "0",
         "Very good"
        ],
        [
         "1",
         "Very good"
        ],
        [
         "2",
         "Fair"
        ],
        [
         "3",
         "Good"
        ],
        [
         "4",
         "Very good"
        ]
       ],
       "shape": {
        "columns": 1,
        "rows": 5
       }
      },
      "text/html": [
       "<div>\n",
       "<style scoped>\n",
       "    .dataframe tbody tr th:only-of-type {\n",
       "        vertical-align: middle;\n",
       "    }\n",
       "\n",
       "    .dataframe tbody tr th {\n",
       "        vertical-align: top;\n",
       "    }\n",
       "\n",
       "    .dataframe thead th {\n",
       "        text-align: right;\n",
       "    }\n",
       "</style>\n",
       "<table border=\"1\" class=\"dataframe\">\n",
       "  <thead>\n",
       "    <tr style=\"text-align: right;\">\n",
       "      <th></th>\n",
       "      <th>GenHealth</th>\n",
       "    </tr>\n",
       "  </thead>\n",
       "  <tbody>\n",
       "    <tr>\n",
       "      <th>0</th>\n",
       "      <td>Very good</td>\n",
       "    </tr>\n",
       "    <tr>\n",
       "      <th>1</th>\n",
       "      <td>Very good</td>\n",
       "    </tr>\n",
       "    <tr>\n",
       "      <th>2</th>\n",
       "      <td>Fair</td>\n",
       "    </tr>\n",
       "    <tr>\n",
       "      <th>3</th>\n",
       "      <td>Good</td>\n",
       "    </tr>\n",
       "    <tr>\n",
       "      <th>4</th>\n",
       "      <td>Very good</td>\n",
       "    </tr>\n",
       "  </tbody>\n",
       "</table>\n",
       "</div>"
      ],
      "text/plain": [
       "   GenHealth\n",
       "0  Very good\n",
       "1  Very good\n",
       "2       Fair\n",
       "3       Good\n",
       "4  Very good"
      ]
     },
     "execution_count": 133,
     "metadata": {},
     "output_type": "execute_result"
    }
   ],
   "source": [
    "# Display columns that still have categorical (object) values\n",
    "categorical_cols = df.select_dtypes(include=['object']).columns.tolist()\n",
    "print(\"Remaining categorical columns:\", categorical_cols)\n",
    "df[categorical_cols].head()"
   ]
  },
  {
   "cell_type": "markdown",
   "id": "133dd2b3",
   "metadata": {},
   "source": [
    "\n",
    "**Check for Remaining Categorical Columns**\n",
    "\n"
   ]
  },
  {
   "cell_type": "code",
   "execution_count": 134,
   "id": "b904dc8a",
   "metadata": {},
   "outputs": [
    {
     "name": "stdout",
     "output_type": "stream",
     "text": [
      "Remaining categorical columns: ['GenHealth']\n"
     ]
    },
    {
     "data": {
      "application/vnd.microsoft.datawrangler.viewer.v0+json": {
       "columns": [
        {
         "name": "index",
         "rawType": "int64",
         "type": "integer"
        },
        {
         "name": "GenHealth",
         "rawType": "object",
         "type": "string"
        }
       ],
       "ref": "57cd3fcb-581c-46b2-afc6-c33e3f961792",
       "rows": [
        [
         "0",
         "Very good"
        ],
        [
         "1",
         "Very good"
        ],
        [
         "2",
         "Fair"
        ],
        [
         "3",
         "Good"
        ],
        [
         "4",
         "Very good"
        ]
       ],
       "shape": {
        "columns": 1,
        "rows": 5
       }
      },
      "text/html": [
       "<div>\n",
       "<style scoped>\n",
       "    .dataframe tbody tr th:only-of-type {\n",
       "        vertical-align: middle;\n",
       "    }\n",
       "\n",
       "    .dataframe tbody tr th {\n",
       "        vertical-align: top;\n",
       "    }\n",
       "\n",
       "    .dataframe thead th {\n",
       "        text-align: right;\n",
       "    }\n",
       "</style>\n",
       "<table border=\"1\" class=\"dataframe\">\n",
       "  <thead>\n",
       "    <tr style=\"text-align: right;\">\n",
       "      <th></th>\n",
       "      <th>GenHealth</th>\n",
       "    </tr>\n",
       "  </thead>\n",
       "  <tbody>\n",
       "    <tr>\n",
       "      <th>0</th>\n",
       "      <td>Very good</td>\n",
       "    </tr>\n",
       "    <tr>\n",
       "      <th>1</th>\n",
       "      <td>Very good</td>\n",
       "    </tr>\n",
       "    <tr>\n",
       "      <th>2</th>\n",
       "      <td>Fair</td>\n",
       "    </tr>\n",
       "    <tr>\n",
       "      <th>3</th>\n",
       "      <td>Good</td>\n",
       "    </tr>\n",
       "    <tr>\n",
       "      <th>4</th>\n",
       "      <td>Very good</td>\n",
       "    </tr>\n",
       "  </tbody>\n",
       "</table>\n",
       "</div>"
      ],
      "text/plain": [
       "   GenHealth\n",
       "0  Very good\n",
       "1  Very good\n",
       "2       Fair\n",
       "3       Good\n",
       "4  Very good"
      ]
     },
     "execution_count": 134,
     "metadata": {},
     "output_type": "execute_result"
    }
   ],
   "source": [
    "# Display columns that still have categorical (object) values\n",
    "categorical_cols = df.select_dtypes(include=['object']).columns.tolist()\n",
    "print(\"Remaining categorical columns:\", categorical_cols)\n",
    "df[categorical_cols].head()"
   ]
  },
  {
   "cell_type": "markdown",
   "id": "27850f6d",
   "metadata": {},
   "source": [
    "**Mapping GenHealth Column to Numerical Values**\n",
    "\n",
    "The `GenHealth` column contains categorical values describing general health status. To use this feature in modeling, we map its categories to integers as follows:\n",
    "\n",
    "- 'Poor' → 0  \n",
    "- 'Fair' → 1  \n",
    "- 'Good' → 2  \n",
    "- 'Very good' → 3  \n",
    "- 'Excellent' → 4\n",
    "\n",
    "This transformation allows machine learning algorithms to interpret the ordinal relationship between the categories."
   ]
  },
  {
   "cell_type": "code",
   "execution_count": 135,
   "id": "92b1ef69",
   "metadata": {},
   "outputs": [],
   "source": [
    "# Handle GenHealth Column by mapping values to integers\n",
    "genhealth_mapping = {\n",
    "    'Poor': 0,\n",
    "    'Fair': 1,\n",
    "    'Good': 2,\n",
    "    'Very good': 3,\n",
    "    'Excellent': 4\n",
    "}\n",
    "df['GenHealth'] = df['GenHealth'].map(genhealth_mapping)"
   ]
  },
  {
   "cell_type": "code",
   "execution_count": 136,
   "id": "a99696b5",
   "metadata": {},
   "outputs": [
    {
     "data": {
      "application/vnd.microsoft.datawrangler.viewer.v0+json": {
       "columns": [
        {
         "name": "index",
         "rawType": "int64",
         "type": "integer"
        },
        {
         "name": "GenHealth",
         "rawType": "int64",
         "type": "integer"
        }
       ],
       "ref": "541234bf-e533-4be4-89e6-711e9f0c5513",
       "rows": [
        [
         "0",
         "3"
        ],
        [
         "1",
         "3"
        ],
        [
         "2",
         "1"
        ],
        [
         "3",
         "2"
        ],
        [
         "4",
         "3"
        ]
       ],
       "shape": {
        "columns": 1,
        "rows": 5
       }
      },
      "text/plain": [
       "0    3\n",
       "1    3\n",
       "2    1\n",
       "3    2\n",
       "4    3\n",
       "Name: GenHealth, dtype: int64"
      ]
     },
     "execution_count": 136,
     "metadata": {},
     "output_type": "execute_result"
    }
   ],
   "source": [
    "\n",
    "df['GenHealth'].head()"
   ]
  },
  {
   "cell_type": "code",
   "execution_count": 137,
   "id": "700e9e6a",
   "metadata": {},
   "outputs": [
    {
     "data": {
      "application/vnd.microsoft.datawrangler.viewer.v0+json": {
       "columns": [
        {
         "name": "GenHealth",
         "rawType": "int64",
         "type": "integer"
        },
        {
         "name": "count",
         "rawType": "int64",
         "type": "integer"
        }
       ],
       "ref": "4e67d198-5221-4393-b695-6c45f89eedc4",
       "rows": [
        [
         "3",
         "113858"
        ],
        [
         "2",
         "93129"
        ],
        [
         "4",
         "66842"
        ],
        [
         "1",
         "34677"
        ],
        [
         "0",
         "11289"
        ]
       ],
       "shape": {
        "columns": 1,
        "rows": 5
       }
      },
      "text/plain": [
       "GenHealth\n",
       "3    113858\n",
       "2     93129\n",
       "4     66842\n",
       "1     34677\n",
       "0     11289\n",
       "Name: count, dtype: int64"
      ]
     },
     "execution_count": 137,
     "metadata": {},
     "output_type": "execute_result"
    }
   ],
   "source": [
    "df['GenHealth'].value_counts()"
   ]
  },
  {
   "cell_type": "code",
   "execution_count": 138,
   "id": "6b705a2f",
   "metadata": {},
   "outputs": [
    {
     "name": "stdout",
     "output_type": "stream",
     "text": [
      "Remaining categorical columns: None\n"
     ]
    }
   ],
   "source": [
    "# Display columns that still have categorical (object) values\n",
    "categorical_cols = df.select_dtypes(include=['object']).columns.tolist()\n",
    "\n",
    "# Print the list of remaining categorical columns\n",
    "if len(categorical_cols) > 0:\n",
    "    print(\"Remaining categorical columns:\", categorical_cols)\n",
    "    # Show the first few rows of these columns for inspection\n",
    "    print(df[categorical_cols].head())\n",
    "else:\n",
    "    print(\"Remaining categorical columns: None\")"
   ]
  },
  {
   "cell_type": "code",
   "execution_count": 139,
   "id": "435d9e7e",
   "metadata": {},
   "outputs": [
    {
     "data": {
      "application/vnd.microsoft.datawrangler.viewer.v0+json": {
       "columns": [
        {
         "name": "index",
         "rawType": "int64",
         "type": "integer"
        },
        {
         "name": "HeartDisease",
         "rawType": "int64",
         "type": "integer"
        },
        {
         "name": "BMI",
         "rawType": "float64",
         "type": "float"
        },
        {
         "name": "Smoking",
         "rawType": "int64",
         "type": "integer"
        },
        {
         "name": "AlcoholDrinking",
         "rawType": "int64",
         "type": "integer"
        },
        {
         "name": "Stroke",
         "rawType": "int64",
         "type": "integer"
        },
        {
         "name": "PhysicalHealth",
         "rawType": "float64",
         "type": "float"
        },
        {
         "name": "MentalHealth",
         "rawType": "float64",
         "type": "float"
        },
        {
         "name": "DiffWalking",
         "rawType": "int64",
         "type": "integer"
        },
        {
         "name": "Sex",
         "rawType": "int64",
         "type": "integer"
        },
        {
         "name": "AgeCategory",
         "rawType": "int8",
         "type": "integer"
        },
        {
         "name": "Diabetic",
         "rawType": "int64",
         "type": "integer"
        },
        {
         "name": "PhysicalActivity",
         "rawType": "int64",
         "type": "integer"
        },
        {
         "name": "GenHealth",
         "rawType": "int64",
         "type": "integer"
        },
        {
         "name": "SleepTime",
         "rawType": "float64",
         "type": "float"
        },
        {
         "name": "Asthma",
         "rawType": "int64",
         "type": "integer"
        },
        {
         "name": "KidneyDisease",
         "rawType": "int64",
         "type": "integer"
        },
        {
         "name": "SkinCancer",
         "rawType": "int64",
         "type": "integer"
        }
       ],
       "ref": "5652ac47-6845-4c92-b3ef-f5cde05a29c8",
       "rows": [
        [
         "0",
         "0",
         "16.6",
         "1",
         "0",
         "0",
         "3.0",
         "30.0",
         "0",
         "0",
         "7",
         "1",
         "1",
         "3",
         "5.0",
         "1",
         "0",
         "1"
        ],
        [
         "1",
         "0",
         "20.34",
         "0",
         "0",
         "1",
         "0.0",
         "0.0",
         "0",
         "0",
         "12",
         "0",
         "1",
         "3",
         "7.0",
         "0",
         "0",
         "0"
        ],
        [
         "2",
         "0",
         "26.58",
         "1",
         "0",
         "0",
         "20.0",
         "30.0",
         "0",
         "1",
         "9",
         "1",
         "1",
         "1",
         "8.0",
         "1",
         "0",
         "0"
        ],
        [
         "3",
         "0",
         "24.21",
         "0",
         "0",
         "0",
         "0.0",
         "0.0",
         "0",
         "0",
         "11",
         "0",
         "0",
         "2",
         "6.0",
         "0",
         "0",
         "1"
        ],
        [
         "4",
         "0",
         "23.71",
         "0",
         "0",
         "0",
         "28.0",
         "0.0",
         "1",
         "0",
         "4",
         "0",
         "1",
         "3",
         "8.0",
         "0",
         "0",
         "0"
        ]
       ],
       "shape": {
        "columns": 17,
        "rows": 5
       }
      },
      "text/html": [
       "<div>\n",
       "<style scoped>\n",
       "    .dataframe tbody tr th:only-of-type {\n",
       "        vertical-align: middle;\n",
       "    }\n",
       "\n",
       "    .dataframe tbody tr th {\n",
       "        vertical-align: top;\n",
       "    }\n",
       "\n",
       "    .dataframe thead th {\n",
       "        text-align: right;\n",
       "    }\n",
       "</style>\n",
       "<table border=\"1\" class=\"dataframe\">\n",
       "  <thead>\n",
       "    <tr style=\"text-align: right;\">\n",
       "      <th></th>\n",
       "      <th>HeartDisease</th>\n",
       "      <th>BMI</th>\n",
       "      <th>Smoking</th>\n",
       "      <th>AlcoholDrinking</th>\n",
       "      <th>Stroke</th>\n",
       "      <th>PhysicalHealth</th>\n",
       "      <th>MentalHealth</th>\n",
       "      <th>DiffWalking</th>\n",
       "      <th>Sex</th>\n",
       "      <th>AgeCategory</th>\n",
       "      <th>Diabetic</th>\n",
       "      <th>PhysicalActivity</th>\n",
       "      <th>GenHealth</th>\n",
       "      <th>SleepTime</th>\n",
       "      <th>Asthma</th>\n",
       "      <th>KidneyDisease</th>\n",
       "      <th>SkinCancer</th>\n",
       "    </tr>\n",
       "  </thead>\n",
       "  <tbody>\n",
       "    <tr>\n",
       "      <th>0</th>\n",
       "      <td>0</td>\n",
       "      <td>16.60</td>\n",
       "      <td>1</td>\n",
       "      <td>0</td>\n",
       "      <td>0</td>\n",
       "      <td>3.0</td>\n",
       "      <td>30.0</td>\n",
       "      <td>0</td>\n",
       "      <td>0</td>\n",
       "      <td>7</td>\n",
       "      <td>1</td>\n",
       "      <td>1</td>\n",
       "      <td>3</td>\n",
       "      <td>5.0</td>\n",
       "      <td>1</td>\n",
       "      <td>0</td>\n",
       "      <td>1</td>\n",
       "    </tr>\n",
       "    <tr>\n",
       "      <th>1</th>\n",
       "      <td>0</td>\n",
       "      <td>20.34</td>\n",
       "      <td>0</td>\n",
       "      <td>0</td>\n",
       "      <td>1</td>\n",
       "      <td>0.0</td>\n",
       "      <td>0.0</td>\n",
       "      <td>0</td>\n",
       "      <td>0</td>\n",
       "      <td>12</td>\n",
       "      <td>0</td>\n",
       "      <td>1</td>\n",
       "      <td>3</td>\n",
       "      <td>7.0</td>\n",
       "      <td>0</td>\n",
       "      <td>0</td>\n",
       "      <td>0</td>\n",
       "    </tr>\n",
       "    <tr>\n",
       "      <th>2</th>\n",
       "      <td>0</td>\n",
       "      <td>26.58</td>\n",
       "      <td>1</td>\n",
       "      <td>0</td>\n",
       "      <td>0</td>\n",
       "      <td>20.0</td>\n",
       "      <td>30.0</td>\n",
       "      <td>0</td>\n",
       "      <td>1</td>\n",
       "      <td>9</td>\n",
       "      <td>1</td>\n",
       "      <td>1</td>\n",
       "      <td>1</td>\n",
       "      <td>8.0</td>\n",
       "      <td>1</td>\n",
       "      <td>0</td>\n",
       "      <td>0</td>\n",
       "    </tr>\n",
       "    <tr>\n",
       "      <th>3</th>\n",
       "      <td>0</td>\n",
       "      <td>24.21</td>\n",
       "      <td>0</td>\n",
       "      <td>0</td>\n",
       "      <td>0</td>\n",
       "      <td>0.0</td>\n",
       "      <td>0.0</td>\n",
       "      <td>0</td>\n",
       "      <td>0</td>\n",
       "      <td>11</td>\n",
       "      <td>0</td>\n",
       "      <td>0</td>\n",
       "      <td>2</td>\n",
       "      <td>6.0</td>\n",
       "      <td>0</td>\n",
       "      <td>0</td>\n",
       "      <td>1</td>\n",
       "    </tr>\n",
       "    <tr>\n",
       "      <th>4</th>\n",
       "      <td>0</td>\n",
       "      <td>23.71</td>\n",
       "      <td>0</td>\n",
       "      <td>0</td>\n",
       "      <td>0</td>\n",
       "      <td>28.0</td>\n",
       "      <td>0.0</td>\n",
       "      <td>1</td>\n",
       "      <td>0</td>\n",
       "      <td>4</td>\n",
       "      <td>0</td>\n",
       "      <td>1</td>\n",
       "      <td>3</td>\n",
       "      <td>8.0</td>\n",
       "      <td>0</td>\n",
       "      <td>0</td>\n",
       "      <td>0</td>\n",
       "    </tr>\n",
       "  </tbody>\n",
       "</table>\n",
       "</div>"
      ],
      "text/plain": [
       "   HeartDisease    BMI  Smoking  AlcoholDrinking  Stroke  PhysicalHealth  \\\n",
       "0             0  16.60        1                0       0             3.0   \n",
       "1             0  20.34        0                0       1             0.0   \n",
       "2             0  26.58        1                0       0            20.0   \n",
       "3             0  24.21        0                0       0             0.0   \n",
       "4             0  23.71        0                0       0            28.0   \n",
       "\n",
       "   MentalHealth  DiffWalking  Sex  AgeCategory  Diabetic  PhysicalActivity  \\\n",
       "0          30.0            0    0            7         1                 1   \n",
       "1           0.0            0    0           12         0                 1   \n",
       "2          30.0            0    1            9         1                 1   \n",
       "3           0.0            0    0           11         0                 0   \n",
       "4           0.0            1    0            4         0                 1   \n",
       "\n",
       "   GenHealth  SleepTime  Asthma  KidneyDisease  SkinCancer  \n",
       "0          3        5.0       1              0           1  \n",
       "1          3        7.0       0              0           0  \n",
       "2          1        8.0       1              0           0  \n",
       "3          2        6.0       0              0           1  \n",
       "4          3        8.0       0              0           0  "
      ]
     },
     "execution_count": 139,
     "metadata": {},
     "output_type": "execute_result"
    }
   ],
   "source": [
    "# DataFrame after all the transformations\n",
    "df.head()"
   ]
  },
  {
   "cell_type": "markdown",
   "id": "a2a14c75",
   "metadata": {},
   "source": [
    "# Feature Scaling"
   ]
  },
  {
   "cell_type": "markdown",
   "id": "f40e3b77",
   "metadata": {},
   "source": [
    "**Identify which columns to implement feature scaling**"
   ]
  },
  {
   "cell_type": "code",
   "execution_count": 140,
   "id": "3e1f7646",
   "metadata": {},
   "outputs": [
    {
     "name": "stdout",
     "output_type": "stream",
     "text": [
      "Columns that need scaling:\n"
     ]
    },
    {
     "data": {
      "application/vnd.microsoft.datawrangler.viewer.v0+json": {
       "columns": [
        {
         "name": "index",
         "rawType": "object",
         "type": "string"
        },
        {
         "name": "mean",
         "rawType": "object",
         "type": "unknown"
        },
        {
         "name": "std",
         "rawType": "object",
         "type": "unknown"
        },
        {
         "name": "min",
         "rawType": "object",
         "type": "unknown"
        },
        {
         "name": "max",
         "rawType": "object",
         "type": "unknown"
        },
        {
         "name": "range",
         "rawType": "object",
         "type": "unknown"
        },
        {
         "name": "cov",
         "rawType": "object",
         "type": "unknown"
        },
        {
         "name": "unique_values",
         "rawType": "object",
         "type": "unknown"
        },
        {
         "name": "is_binary",
         "rawType": "object",
         "type": "unknown"
        },
        {
         "name": "needs_scaling",
         "rawType": "bool",
         "type": "boolean"
        }
       ],
       "ref": "adb4fb48-580d-42ac-ab8a-316bc0de2bc2",
       "rows": [
        [
         "BMI",
         "28.32499629450116",
         "6.354471330607551",
         "12.02",
         "94.85",
         "82.83",
         "0.22434147085276648",
         "3604",
         "False",
         "True"
        ],
        [
         "PhysicalHealth",
         "3.3698244187682733",
         "7.948593176063",
         "0.0",
         "30.0",
         "30.0",
         "2.358755884073136",
         "31",
         "False",
         "True"
        ],
        [
         "MentalHealth",
         "3.898366140808956",
         "7.955235218943607",
         "0.0",
         "30.0",
         "30.0",
         "2.0406588123333136",
         "31",
         "False",
         "True"
        ],
        [
         "AgeCategory",
         "6.51453587454463",
         "3.564759339208325",
         "0",
         "12",
         "12",
         "0.5472008148942006",
         "13",
         "False",
         "True"
        ],
        [
         "Diabetic",
         "0.19400240779249206",
         "0.49677627847056727",
         "0",
         "3",
         "3",
         "2.5606706850872016",
         "4",
         "False",
         "True"
        ],
        [
         "GenHealth",
         "2.595028064854047",
         "1.042918016146177",
         "0",
         "4",
         "4",
         "0.4018908428278729",
         "5",
         "False",
         "True"
        ],
        [
         "SleepTime",
         "7.097133205086096",
         "1.4358506037096017",
         "1.0",
         "24.0",
         "23.0",
         "0.2023141685829727",
         "25",
         "False",
         "True"
        ]
       ],
       "shape": {
        "columns": 9,
        "rows": 7
       }
      },
      "text/html": [
       "<div>\n",
       "<style scoped>\n",
       "    .dataframe tbody tr th:only-of-type {\n",
       "        vertical-align: middle;\n",
       "    }\n",
       "\n",
       "    .dataframe tbody tr th {\n",
       "        vertical-align: top;\n",
       "    }\n",
       "\n",
       "    .dataframe thead th {\n",
       "        text-align: right;\n",
       "    }\n",
       "</style>\n",
       "<table border=\"1\" class=\"dataframe\">\n",
       "  <thead>\n",
       "    <tr style=\"text-align: right;\">\n",
       "      <th></th>\n",
       "      <th>mean</th>\n",
       "      <th>std</th>\n",
       "      <th>min</th>\n",
       "      <th>max</th>\n",
       "      <th>range</th>\n",
       "      <th>cov</th>\n",
       "      <th>unique_values</th>\n",
       "      <th>is_binary</th>\n",
       "      <th>needs_scaling</th>\n",
       "    </tr>\n",
       "  </thead>\n",
       "  <tbody>\n",
       "    <tr>\n",
       "      <th>BMI</th>\n",
       "      <td>28.324996</td>\n",
       "      <td>6.354471</td>\n",
       "      <td>12.02</td>\n",
       "      <td>94.85</td>\n",
       "      <td>82.83</td>\n",
       "      <td>0.224341</td>\n",
       "      <td>3604</td>\n",
       "      <td>False</td>\n",
       "      <td>True</td>\n",
       "    </tr>\n",
       "    <tr>\n",
       "      <th>PhysicalHealth</th>\n",
       "      <td>3.369824</td>\n",
       "      <td>7.948593</td>\n",
       "      <td>0.0</td>\n",
       "      <td>30.0</td>\n",
       "      <td>30.0</td>\n",
       "      <td>2.358756</td>\n",
       "      <td>31</td>\n",
       "      <td>False</td>\n",
       "      <td>True</td>\n",
       "    </tr>\n",
       "    <tr>\n",
       "      <th>MentalHealth</th>\n",
       "      <td>3.898366</td>\n",
       "      <td>7.955235</td>\n",
       "      <td>0.0</td>\n",
       "      <td>30.0</td>\n",
       "      <td>30.0</td>\n",
       "      <td>2.040659</td>\n",
       "      <td>31</td>\n",
       "      <td>False</td>\n",
       "      <td>True</td>\n",
       "    </tr>\n",
       "    <tr>\n",
       "      <th>AgeCategory</th>\n",
       "      <td>6.514536</td>\n",
       "      <td>3.564759</td>\n",
       "      <td>0</td>\n",
       "      <td>12</td>\n",
       "      <td>12</td>\n",
       "      <td>0.547201</td>\n",
       "      <td>13</td>\n",
       "      <td>False</td>\n",
       "      <td>True</td>\n",
       "    </tr>\n",
       "    <tr>\n",
       "      <th>Diabetic</th>\n",
       "      <td>0.194002</td>\n",
       "      <td>0.496776</td>\n",
       "      <td>0</td>\n",
       "      <td>3</td>\n",
       "      <td>3</td>\n",
       "      <td>2.560671</td>\n",
       "      <td>4</td>\n",
       "      <td>False</td>\n",
       "      <td>True</td>\n",
       "    </tr>\n",
       "    <tr>\n",
       "      <th>GenHealth</th>\n",
       "      <td>2.595028</td>\n",
       "      <td>1.042918</td>\n",
       "      <td>0</td>\n",
       "      <td>4</td>\n",
       "      <td>4</td>\n",
       "      <td>0.401891</td>\n",
       "      <td>5</td>\n",
       "      <td>False</td>\n",
       "      <td>True</td>\n",
       "    </tr>\n",
       "    <tr>\n",
       "      <th>SleepTime</th>\n",
       "      <td>7.097133</td>\n",
       "      <td>1.435851</td>\n",
       "      <td>1.0</td>\n",
       "      <td>24.0</td>\n",
       "      <td>23.0</td>\n",
       "      <td>0.202314</td>\n",
       "      <td>25</td>\n",
       "      <td>False</td>\n",
       "      <td>True</td>\n",
       "    </tr>\n",
       "  </tbody>\n",
       "</table>\n",
       "</div>"
      ],
      "text/plain": [
       "                     mean       std    min    max  range       cov  \\\n",
       "BMI             28.324996  6.354471  12.02  94.85  82.83  0.224341   \n",
       "PhysicalHealth   3.369824  7.948593    0.0   30.0   30.0  2.358756   \n",
       "MentalHealth     3.898366  7.955235    0.0   30.0   30.0  2.040659   \n",
       "AgeCategory      6.514536  3.564759      0     12     12  0.547201   \n",
       "Diabetic         0.194002  0.496776      0      3      3  2.560671   \n",
       "GenHealth        2.595028  1.042918      0      4      4  0.401891   \n",
       "SleepTime        7.097133  1.435851    1.0   24.0   23.0  0.202314   \n",
       "\n",
       "               unique_values is_binary  needs_scaling  \n",
       "BMI                     3604     False           True  \n",
       "PhysicalHealth            31     False           True  \n",
       "MentalHealth              31     False           True  \n",
       "AgeCategory               13     False           True  \n",
       "Diabetic                   4     False           True  \n",
       "GenHealth                  5     False           True  \n",
       "SleepTime                 25     False           True  "
      ]
     },
     "metadata": {},
     "output_type": "display_data"
    },
    {
     "name": "stdout",
     "output_type": "stream",
     "text": [
      "\n",
      "Columns that DON'T need scaling:\n"
     ]
    },
    {
     "data": {
      "application/vnd.microsoft.datawrangler.viewer.v0+json": {
       "columns": [
        {
         "name": "index",
         "rawType": "object",
         "type": "string"
        },
        {
         "name": "mean",
         "rawType": "object",
         "type": "unknown"
        },
        {
         "name": "std",
         "rawType": "object",
         "type": "unknown"
        },
        {
         "name": "min",
         "rawType": "object",
         "type": "unknown"
        },
        {
         "name": "max",
         "rawType": "object",
         "type": "unknown"
        },
        {
         "name": "range",
         "rawType": "object",
         "type": "unknown"
        },
        {
         "name": "cov",
         "rawType": "object",
         "type": "unknown"
        },
        {
         "name": "unique_values",
         "rawType": "object",
         "type": "unknown"
        },
        {
         "name": "is_binary",
         "rawType": "object",
         "type": "unknown"
        },
        {
         "name": "needs_scaling",
         "rawType": "bool",
         "type": "boolean"
        }
       ],
       "ref": "dbcc9e79-ca12-4f6d-9d7a-3c2acdf1ec73",
       "rows": [
        [
         "HeartDisease",
         "0.08559545959130067",
         "0.27976619101751976",
         "0",
         "1",
         "1",
         "3.26846999073714",
         "2",
         "True",
         "False"
        ],
        [
         "Smoking",
         "0.4124767429134289",
         "0.4922808520227957",
         "0",
         "1",
         "1",
         "1.1934754152335716",
         "2",
         "True",
         "False"
        ],
        [
         "AlcoholDrinking",
         "0.06809674948013571",
         "0.2519122478747605",
         "0",
         "1",
         "1",
         "3.6993285259268514",
         "2",
         "True",
         "False"
        ],
        [
         "Stroke",
         "0.03773980206069513",
         "0.19056658405970656",
         "0",
         "1",
         "1",
         "5.049485520703775",
         "2",
         "True",
         "False"
        ],
        [
         "DiffWalking",
         "0.1388702137306712",
         "0.3458115836894246",
         "0",
         "1",
         "1",
         "2.4901782347660335",
         "2",
         "True",
         "False"
        ],
        [
         "Sex",
         "0.47527322190778465",
         "0.4993889929569271",
         "0",
         "1",
         "1",
         "1.0507408579686857",
         "2",
         "True",
         "False"
        ],
        [
         "PhysicalActivity",
         "0.7753623415000235",
         "0.4173441332197359",
         "0",
         "1",
         "1",
         "0.5382569037494623",
         "2",
         "True",
         "False"
        ],
        [
         "Asthma",
         "0.13406088275301364",
         "0.340718249406958",
         "0",
         "1",
         "1",
         "2.541518766773142",
         "2",
         "True",
         "False"
        ],
        [
         "KidneyDisease",
         "0.036832971122125115",
         "0.18835183645322953",
         "0",
         "1",
         "1",
         "5.113674805888491",
         "2",
         "True",
         "False"
        ],
        [
         "SkinCancer",
         "0.09324410950765334",
         "0.2907746721047417",
         "0",
         "1",
         "1",
         "3.1184240338621643",
         "2",
         "True",
         "False"
        ]
       ],
       "shape": {
        "columns": 9,
        "rows": 10
       }
      },
      "text/html": [
       "<div>\n",
       "<style scoped>\n",
       "    .dataframe tbody tr th:only-of-type {\n",
       "        vertical-align: middle;\n",
       "    }\n",
       "\n",
       "    .dataframe tbody tr th {\n",
       "        vertical-align: top;\n",
       "    }\n",
       "\n",
       "    .dataframe thead th {\n",
       "        text-align: right;\n",
       "    }\n",
       "</style>\n",
       "<table border=\"1\" class=\"dataframe\">\n",
       "  <thead>\n",
       "    <tr style=\"text-align: right;\">\n",
       "      <th></th>\n",
       "      <th>mean</th>\n",
       "      <th>std</th>\n",
       "      <th>min</th>\n",
       "      <th>max</th>\n",
       "      <th>range</th>\n",
       "      <th>cov</th>\n",
       "      <th>unique_values</th>\n",
       "      <th>is_binary</th>\n",
       "      <th>needs_scaling</th>\n",
       "    </tr>\n",
       "  </thead>\n",
       "  <tbody>\n",
       "    <tr>\n",
       "      <th>HeartDisease</th>\n",
       "      <td>0.085595</td>\n",
       "      <td>0.279766</td>\n",
       "      <td>0</td>\n",
       "      <td>1</td>\n",
       "      <td>1</td>\n",
       "      <td>3.26847</td>\n",
       "      <td>2</td>\n",
       "      <td>True</td>\n",
       "      <td>False</td>\n",
       "    </tr>\n",
       "    <tr>\n",
       "      <th>Smoking</th>\n",
       "      <td>0.412477</td>\n",
       "      <td>0.492281</td>\n",
       "      <td>0</td>\n",
       "      <td>1</td>\n",
       "      <td>1</td>\n",
       "      <td>1.193475</td>\n",
       "      <td>2</td>\n",
       "      <td>True</td>\n",
       "      <td>False</td>\n",
       "    </tr>\n",
       "    <tr>\n",
       "      <th>AlcoholDrinking</th>\n",
       "      <td>0.068097</td>\n",
       "      <td>0.251912</td>\n",
       "      <td>0</td>\n",
       "      <td>1</td>\n",
       "      <td>1</td>\n",
       "      <td>3.699329</td>\n",
       "      <td>2</td>\n",
       "      <td>True</td>\n",
       "      <td>False</td>\n",
       "    </tr>\n",
       "    <tr>\n",
       "      <th>Stroke</th>\n",
       "      <td>0.03774</td>\n",
       "      <td>0.190567</td>\n",
       "      <td>0</td>\n",
       "      <td>1</td>\n",
       "      <td>1</td>\n",
       "      <td>5.049486</td>\n",
       "      <td>2</td>\n",
       "      <td>True</td>\n",
       "      <td>False</td>\n",
       "    </tr>\n",
       "    <tr>\n",
       "      <th>DiffWalking</th>\n",
       "      <td>0.13887</td>\n",
       "      <td>0.345812</td>\n",
       "      <td>0</td>\n",
       "      <td>1</td>\n",
       "      <td>1</td>\n",
       "      <td>2.490178</td>\n",
       "      <td>2</td>\n",
       "      <td>True</td>\n",
       "      <td>False</td>\n",
       "    </tr>\n",
       "    <tr>\n",
       "      <th>Sex</th>\n",
       "      <td>0.475273</td>\n",
       "      <td>0.499389</td>\n",
       "      <td>0</td>\n",
       "      <td>1</td>\n",
       "      <td>1</td>\n",
       "      <td>1.050741</td>\n",
       "      <td>2</td>\n",
       "      <td>True</td>\n",
       "      <td>False</td>\n",
       "    </tr>\n",
       "    <tr>\n",
       "      <th>PhysicalActivity</th>\n",
       "      <td>0.775362</td>\n",
       "      <td>0.417344</td>\n",
       "      <td>0</td>\n",
       "      <td>1</td>\n",
       "      <td>1</td>\n",
       "      <td>0.538257</td>\n",
       "      <td>2</td>\n",
       "      <td>True</td>\n",
       "      <td>False</td>\n",
       "    </tr>\n",
       "    <tr>\n",
       "      <th>Asthma</th>\n",
       "      <td>0.134061</td>\n",
       "      <td>0.340718</td>\n",
       "      <td>0</td>\n",
       "      <td>1</td>\n",
       "      <td>1</td>\n",
       "      <td>2.541519</td>\n",
       "      <td>2</td>\n",
       "      <td>True</td>\n",
       "      <td>False</td>\n",
       "    </tr>\n",
       "    <tr>\n",
       "      <th>KidneyDisease</th>\n",
       "      <td>0.036833</td>\n",
       "      <td>0.188352</td>\n",
       "      <td>0</td>\n",
       "      <td>1</td>\n",
       "      <td>1</td>\n",
       "      <td>5.113675</td>\n",
       "      <td>2</td>\n",
       "      <td>True</td>\n",
       "      <td>False</td>\n",
       "    </tr>\n",
       "    <tr>\n",
       "      <th>SkinCancer</th>\n",
       "      <td>0.093244</td>\n",
       "      <td>0.290775</td>\n",
       "      <td>0</td>\n",
       "      <td>1</td>\n",
       "      <td>1</td>\n",
       "      <td>3.118424</td>\n",
       "      <td>2</td>\n",
       "      <td>True</td>\n",
       "      <td>False</td>\n",
       "    </tr>\n",
       "  </tbody>\n",
       "</table>\n",
       "</div>"
      ],
      "text/plain": [
       "                      mean       std min max range       cov unique_values  \\\n",
       "HeartDisease      0.085595  0.279766   0   1     1   3.26847             2   \n",
       "Smoking           0.412477  0.492281   0   1     1  1.193475             2   \n",
       "AlcoholDrinking   0.068097  0.251912   0   1     1  3.699329             2   \n",
       "Stroke             0.03774  0.190567   0   1     1  5.049486             2   \n",
       "DiffWalking        0.13887  0.345812   0   1     1  2.490178             2   \n",
       "Sex               0.475273  0.499389   0   1     1  1.050741             2   \n",
       "PhysicalActivity  0.775362  0.417344   0   1     1  0.538257             2   \n",
       "Asthma            0.134061  0.340718   0   1     1  2.541519             2   \n",
       "KidneyDisease     0.036833  0.188352   0   1     1  5.113675             2   \n",
       "SkinCancer        0.093244  0.290775   0   1     1  3.118424             2   \n",
       "\n",
       "                 is_binary  needs_scaling  \n",
       "HeartDisease          True          False  \n",
       "Smoking               True          False  \n",
       "AlcoholDrinking       True          False  \n",
       "Stroke                True          False  \n",
       "DiffWalking           True          False  \n",
       "Sex                   True          False  \n",
       "PhysicalActivity      True          False  \n",
       "Asthma                True          False  \n",
       "KidneyDisease         True          False  \n",
       "SkinCancer            True          False  "
      ]
     },
     "metadata": {},
     "output_type": "display_data"
    }
   ],
   "source": [
    "import pandas as pd\n",
    "import numpy as np\n",
    "from sklearn.preprocessing import StandardScaler, MinMaxScaler\n",
    "\n",
    "\n",
    "\n",
    "def identify_scaling_needs(df, threshold=0.1):\n",
    "   \n",
    "    scaling_info = {}\n",
    "    \n",
    "    for col in df.columns:\n",
    "        # Skip non-numeric columns\n",
    "        if not np.issubdtype(df[col].dtype, np.number):\n",
    "            continue\n",
    "            \n",
    "        # Calculate statistics\n",
    "        col_mean = df[col].mean()\n",
    "        col_std = df[col].std()\n",
    "        col_min = df[col].min()\n",
    "        col_max = df[col].max()\n",
    "        unique_values = df[col].nunique()\n",
    "        \n",
    "        # Check if binary (0/1 or similar)\n",
    "        is_binary = unique_values <= 2 and set(df[col].unique()).issubset({0, 1})\n",
    "        \n",
    "        # Calculate coefficient of variation (std/mean)\n",
    "        # Handle division by zero for constant columns\n",
    "        cov = col_std / col_mean if col_mean != 0 else 0\n",
    "        \n",
    "        # Determine if scaling is recommended\n",
    "        needs_scaling = (not is_binary and \n",
    "                        (cov > threshold or  # High variability\n",
    "                         (col_max - col_min) > 10))  # Wide range\n",
    "        \n",
    "        scaling_info[col] = {\n",
    "            'mean': col_mean,\n",
    "            'std': col_std,\n",
    "            'min': col_min,\n",
    "            'max': col_max,\n",
    "            'range': col_max - col_min,\n",
    "            'cov': cov,\n",
    "            'unique_values': unique_values,\n",
    "            'is_binary': is_binary,\n",
    "            'needs_scaling': needs_scaling\n",
    "        }\n",
    "    \n",
    "    return scaling_info\n",
    "\n",
    "# Get scaling recommendations\n",
    "scaling_recommendations = identify_scaling_needs(df)\n",
    "\n",
    "# Convert to DataFrame for better visualization\n",
    "scaling_df = pd.DataFrame(scaling_recommendations).T\n",
    "scaling_df['needs_scaling'] = scaling_df['needs_scaling'].astype(bool)\n",
    "\n",
    "# Display results\n",
    "print(\"Columns that need scaling:\")\n",
    "display(scaling_df[scaling_df['needs_scaling']])\n",
    "\n",
    "print(\"\\nColumns that DON'T need scaling:\")\n",
    "display(scaling_df[~scaling_df['needs_scaling']])"
   ]
  },
  {
   "cell_type": "markdown",
   "id": "842a8143",
   "metadata": {},
   "source": [
    "From the results above, it shows columns that need scaling:\n",
    "    \n",
    "- BMI\n",
    "- PhysicalHealth\n",
    "- MentalHealt\n",
    "- AgeCategory\n",
    "- Diabetic\n",
    "- GenHealth\n",
    "- SleepTime\n",
    "\n",
    "However, there are columns there that are not fit for feature scaling. Namely: AgeCategory, Diabetic, GenHealth and SleepTime. These columns may have numerical values that has a huge gap in scale with other columns, however, they are originally categorical. The numeric values they have are not real representation of numbers but of a category (e.g. 0='poor', 1='fair' in GenHealth column). Thus what we are left with for feature scaling are:\n",
    "\n",
    "- BMI\n",
    "- PhysicalHealth\n",
    "- MentalHealth\n",
    "- SleepTime\n"
   ]
  },
  {
   "cell_type": "markdown",
   "id": "0cb526e7",
   "metadata": {},
   "source": [
    "**Import Required Libraries**"
   ]
  },
  {
   "cell_type": "code",
   "execution_count": 141,
   "id": "ab499e2d",
   "metadata": {},
   "outputs": [],
   "source": [
    "import pandas as pd\n",
    "import numpy as np\n",
    "import matplotlib.pyplot as plt\n",
    "import seaborn as sns\n",
    "from sklearn.preprocessing import StandardScaler, MinMaxScaler\n",
    "from sklearn.model_selection import train_test_split\n",
    "\n",
    "# Set style for better visualization\n",
    "sns.set(style=\"whitegrid\")"
   ]
  },
  {
   "cell_type": "markdown",
   "id": "af27524a",
   "metadata": {},
   "source": [
    "**Load and Prepare Data**"
   ]
  },
  {
   "cell_type": "code",
   "execution_count": 142,
   "id": "07f9f0d5",
   "metadata": {},
   "outputs": [],
   "source": [
    "\n",
    "\n",
    "# Select the features to scale\n",
    "features_to_scale = ['BMI', 'PhysicalHealth', 'MentalHealth', 'SleepTime']\n",
    "\n",
    "# Create a copy of the original data for comparison\n",
    "original_features = df[features_to_scale].copy()"
   ]
  },
  {
   "cell_type": "markdown",
   "id": "fe95f7bc",
   "metadata": {},
   "source": [
    "**Normalization (Min-Max Scaling)**"
   ]
  },
  {
   "cell_type": "code",
   "execution_count": 143,
   "id": "45165279",
   "metadata": {},
   "outputs": [
    {
     "name": "stdout",
     "output_type": "stream",
     "text": [
      "\n",
      "After Normalization:\n"
     ]
    },
    {
     "data": {
      "application/vnd.microsoft.datawrangler.viewer.v0+json": {
       "columns": [
        {
         "name": "index",
         "rawType": "object",
         "type": "string"
        },
        {
         "name": "BMI",
         "rawType": "float64",
         "type": "float"
        },
        {
         "name": "PhysicalHealth",
         "rawType": "float64",
         "type": "float"
        },
        {
         "name": "MentalHealth",
         "rawType": "float64",
         "type": "float"
        },
        {
         "name": "SleepTime",
         "rawType": "float64",
         "type": "float"
        }
       ],
       "ref": "2060a0e4-05cd-4dbc-87b4-2a8205346505",
       "rows": [
        [
         "count",
         "319795.0",
         "319795.0",
         "319795.0",
         "319795.0"
        ],
        [
         "mean",
         "0.2",
         "0.11",
         "0.13",
         "0.27"
        ],
        [
         "std",
         "0.08",
         "0.26",
         "0.27",
         "0.06"
        ],
        [
         "min",
         "0.0",
         "0.0",
         "0.0",
         "0.0"
        ],
        [
         "25%",
         "0.14",
         "0.0",
         "0.0",
         "0.22"
        ],
        [
         "50%",
         "0.18",
         "0.0",
         "0.0",
         "0.26"
        ],
        [
         "75%",
         "0.23",
         "0.07",
         "0.1",
         "0.3"
        ],
        [
         "max",
         "1.0",
         "1.0",
         "1.0",
         "1.0"
        ]
       ],
       "shape": {
        "columns": 4,
        "rows": 8
       }
      },
      "text/html": [
       "<div>\n",
       "<style scoped>\n",
       "    .dataframe tbody tr th:only-of-type {\n",
       "        vertical-align: middle;\n",
       "    }\n",
       "\n",
       "    .dataframe tbody tr th {\n",
       "        vertical-align: top;\n",
       "    }\n",
       "\n",
       "    .dataframe thead th {\n",
       "        text-align: right;\n",
       "    }\n",
       "</style>\n",
       "<table border=\"1\" class=\"dataframe\">\n",
       "  <thead>\n",
       "    <tr style=\"text-align: right;\">\n",
       "      <th></th>\n",
       "      <th>BMI</th>\n",
       "      <th>PhysicalHealth</th>\n",
       "      <th>MentalHealth</th>\n",
       "      <th>SleepTime</th>\n",
       "    </tr>\n",
       "  </thead>\n",
       "  <tbody>\n",
       "    <tr>\n",
       "      <th>count</th>\n",
       "      <td>319795.00</td>\n",
       "      <td>319795.00</td>\n",
       "      <td>319795.00</td>\n",
       "      <td>319795.00</td>\n",
       "    </tr>\n",
       "    <tr>\n",
       "      <th>mean</th>\n",
       "      <td>0.20</td>\n",
       "      <td>0.11</td>\n",
       "      <td>0.13</td>\n",
       "      <td>0.27</td>\n",
       "    </tr>\n",
       "    <tr>\n",
       "      <th>std</th>\n",
       "      <td>0.08</td>\n",
       "      <td>0.26</td>\n",
       "      <td>0.27</td>\n",
       "      <td>0.06</td>\n",
       "    </tr>\n",
       "    <tr>\n",
       "      <th>min</th>\n",
       "      <td>0.00</td>\n",
       "      <td>0.00</td>\n",
       "      <td>0.00</td>\n",
       "      <td>0.00</td>\n",
       "    </tr>\n",
       "    <tr>\n",
       "      <th>25%</th>\n",
       "      <td>0.14</td>\n",
       "      <td>0.00</td>\n",
       "      <td>0.00</td>\n",
       "      <td>0.22</td>\n",
       "    </tr>\n",
       "    <tr>\n",
       "      <th>50%</th>\n",
       "      <td>0.18</td>\n",
       "      <td>0.00</td>\n",
       "      <td>0.00</td>\n",
       "      <td>0.26</td>\n",
       "    </tr>\n",
       "    <tr>\n",
       "      <th>75%</th>\n",
       "      <td>0.23</td>\n",
       "      <td>0.07</td>\n",
       "      <td>0.10</td>\n",
       "      <td>0.30</td>\n",
       "    </tr>\n",
       "    <tr>\n",
       "      <th>max</th>\n",
       "      <td>1.00</td>\n",
       "      <td>1.00</td>\n",
       "      <td>1.00</td>\n",
       "      <td>1.00</td>\n",
       "    </tr>\n",
       "  </tbody>\n",
       "</table>\n",
       "</div>"
      ],
      "text/plain": [
       "             BMI  PhysicalHealth  MentalHealth  SleepTime\n",
       "count  319795.00       319795.00     319795.00  319795.00\n",
       "mean        0.20            0.11          0.13       0.27\n",
       "std         0.08            0.26          0.27       0.06\n",
       "min         0.00            0.00          0.00       0.00\n",
       "25%         0.14            0.00          0.00       0.22\n",
       "50%         0.18            0.00          0.00       0.26\n",
       "75%         0.23            0.07          0.10       0.30\n",
       "max         1.00            1.00          1.00       1.00"
      ]
     },
     "metadata": {},
     "output_type": "display_data"
    }
   ],
   "source": [
    "# Initialize MinMaxScaler\n",
    "scaler_minmax = MinMaxScaler()\n",
    "\n",
    "# Fit and transform the selected features\n",
    "df_normalized = df.copy()\n",
    "df_normalized[features_to_scale] = scaler_minmax.fit_transform(df[features_to_scale])\n",
    "\n",
    "# Show summary statistics after normalization\n",
    "print(\"\\nAfter Normalization:\")\n",
    "display(df_normalized[features_to_scale].describe().round(2))"
   ]
  },
  {
   "cell_type": "markdown",
   "id": "e68ad5e4",
   "metadata": {},
   "source": [
    " **Before vs After Scaling**"
   ]
  },
  {
   "cell_type": "code",
   "execution_count": 144,
   "id": "2b3a6183",
   "metadata": {},
   "outputs": [
    {
     "data": {
      "image/png": "[encoded data removed]",
      "text/plain": [
       "<Figure size 1500x1000 with 4 Axes>"
      ]
     },
     "metadata": {},
     "output_type": "display_data"
    }
   ],
   "source": [
    "def plot_scaling_comparison(original, scaled, title):\n",
    "    plt.figure(figsize=(15, 10))\n",
    "    for i, col in enumerate(features_to_scale, 1):\n",
    "        plt.subplot(2, 2, i)\n",
    "        sns.kdeplot(original[col], label='Original', color='blue')\n",
    "        sns.kdeplot(scaled[col], label='Scaled', color='red')\n",
    "        plt.title(col)\n",
    "        plt.legend()\n",
    "    plt.suptitle(title, y=1.02)\n",
    "    plt.tight_layout()\n",
    "    plt.show()\n",
    "\n",
    "\n",
    "\n",
    "# Plot normalization comparison\n",
    "plot_scaling_comparison(original_features, df_normalized[features_to_scale], \n",
    "                       \"Feature Distributions: Before vs After Normalization\")"
   ]
  },
  {
   "cell_type": "code",
   "execution_count": 147,
   "id": "7512b0ca",
   "metadata": {},
   "outputs": [],
   "source": [
    "# Saving normalized data to a new CSV file just in case\n",
    "df_normalized.to_csv('normalized_data.csv', index=False)\n",
    "# Load CSV file\n",
    "df_processed = pd.read_csv('normalized_data.csv')"
   ]
  },
  {
   "cell_type": "markdown",
   "id": "76d86287",
   "metadata": {},
   "source": [
    "**Data Preparation**"
   ]
  },
  {
   "cell_type": "code",
   "execution_count": 148,
   "id": "7bd61c30",
   "metadata": {},
   "outputs": [
    {
     "name": "stdout",
     "output_type": "stream",
     "text": [
      "\n",
      "Class distribution:\n",
      "HeartDisease\n",
      "0    0.914405\n",
      "1    0.085595\n",
      "Name: proportion, dtype: float64\n"
     ]
    }
   ],
   "source": [
    "\n",
    "\n",
    "# Final feature/target separation\n",
    "X = df_processed.drop('HeartDisease', axis=1)  # All features except target\n",
    "y = df_processed['HeartDisease']  # Target variable\n",
    "\n",
    "# Check class balance\n",
    "print(\"\\nClass distribution:\")\n",
    "print(y.value_counts(normalize=True))"
   ]
  },
  {
   "cell_type": "markdown",
   "id": "8a79d400",
   "metadata": {},
   "source": [
    "**Address Class Imbalance (If Needed)**"
   ]
  },
  {
   "cell_type": "code",
   "execution_count": 14,
   "id": "efaa2f1d",
   "metadata": {},
   "outputs": [
    {
     "name": "stdout",
     "output_type": "stream",
     "text": [
      "\n",
      "Applying SMOTE to balance classes...\n",
      "New class distribution: HeartDisease\n",
      "0    0.5\n",
      "1    0.5\n",
      "Name: proportion, dtype: float64\n"
     ]
    }
   ],
   "source": [
    "from imblearn.over_sampling import SMOTE\n",
    "\n",
    "# Only apply if significant imbalance exists (e.g., <30% in minority class)\n",
    "if y.mean() < 0.3 or y.mean() > 0.7:\n",
    "    print(\"\\nApplying SMOTE to balance classes...\")\n",
    "    smote = SMOTE(random_state=42)\n",
    "    X_resampled, y_resampled = smote.fit_resample(X, y)\n",
    "    print(\"New class distribution:\", pd.Series(y_resampled).value_counts(normalize=True))\n",
    "else:\n",
    "    X_resampled, y_resampled = X.copy(), y.copy()\n",
    "    print(\"\\nClasses are reasonably balanced - proceeding without resampling\")"
   ]
  },
  {
   "cell_type": "markdown",
   "id": "85de9d0c",
   "metadata": {},
   "source": [
    "**Train-Test Split with Stratification**"
   ]
  },
  {
   "cell_type": "code",
   "execution_count": 15,
   "id": "9aafae3b",
   "metadata": {},
   "outputs": [
    {
     "name": "stdout",
     "output_type": "stream",
     "text": [
      "\n",
      "Training set: 467875 samples\n",
      "Test set: 116969 samples\n"
     ]
    }
   ],
   "source": [
    "from sklearn.model_selection import train_test_split\n",
    "\n",
    "# Split with stratification to maintain class distribution\n",
    "X_train, X_test, y_train, y_test = train_test_split(\n",
    "    X_resampled, y_resampled, \n",
    "    test_size=0.2, \n",
    "    random_state=42,\n",
    "    stratify=y_resampled\n",
    ")\n",
    "\n",
    "print(f\"\\nTraining set: {X_train.shape[0]} samples\")\n",
    "print(f\"Test set: {X_test.shape[0]} samples\")"
   ]
  },
  {
   "cell_type": "markdown",
   "id": "bff6ee1b",
   "metadata": {},
   "source": [
    "**Model Selection & Training**"
   ]
  },
  {
   "cell_type": "code",
   "execution_count": 151,
   "id": "38459861",
   "metadata": {},
   "outputs": [
    {
     "name": "stdout",
     "output_type": "stream",
     "text": [
      "Logistic Regression trained\n",
      "Random Forest trained\n",
      "XGBoost trained\n",
      "Gradient Boosting trained\n",
      "KNN trained\n"
     ]
    }
   ],
   "source": [
    "from sklearn.linear_model import LogisticRegression\n",
    "from sklearn.ensemble import RandomForestClassifier, GradientBoostingClassifier\n",
    "from xgboost import XGBClassifier\n",
    "from sklearn.svm import SVC\n",
    "from sklearn.neighbors import KNeighborsClassifier\n",
    "\n",
    "# Initialize models with some basic parameters\n",
    "models = {\n",
    "    \"Logistic Regression\": LogisticRegression(max_iter=1000, class_weight='balanced'),\n",
    "    \"Random Forest\": RandomForestClassifier(class_weight='balanced', random_state=42),\n",
    "    \"XGBoost\": XGBClassifier(scale_pos_weight=len(y_train[y_train==0])/len(y_train[y_train==1])), \n",
    "    \"Gradient Boosting\": GradientBoostingClassifier(random_state=42),\n",
    "    \"KNN\": KNeighborsClassifier()\n",
    "        }\n",
    "\n",
    "# Train all models\n",
    "for name, model in models.items():\n",
    "    model.fit(X_train, y_train)\n",
    "    print(f\"{name} trained\")"
   ]
  },
  {
   "cell_type": "markdown",
   "id": "c3ec75c1",
   "metadata": {},
   "source": [
    "**Comprehensive Model Evaluation**"
   ]
  },
  {
   "cell_type": "code",
   "execution_count": 153,
   "id": "e6982dfe",
   "metadata": {},
   "outputs": [
    {
     "name": "stdout",
     "output_type": "stream",
     "text": [
      "\n",
      "========================================\n",
      "Evaluating Logistic Regression\n",
      "========================================\n"
     ]
    },
    {
     "data": {
      "image/png": "[encoded data removed]",
      "text/plain": [
       "<Figure size 800x400 with 2 Axes>"
      ]
     },
     "metadata": {},
     "output_type": "display_data"
    },
    {
     "data": {
      "image/png": "[encoded data removed]",
      "text/plain": [
       "<Figure size 1200x500 with 2 Axes>"
      ]
     },
     "metadata": {},
     "output_type": "display_data"
    },
    {
     "name": "stdout",
     "output_type": "stream",
     "text": [
      "\n",
      "Classification Report:\n",
      "              precision    recall  f1-score   support\n",
      "\n",
      "    Low Risk       0.77      0.73      0.75     58485\n",
      "   High Risk       0.75      0.78      0.76     58484\n",
      "\n",
      "    accuracy                           0.76    116969\n",
      "   macro avg       0.76      0.76      0.76    116969\n",
      "weighted avg       0.76      0.76      0.76    116969\n",
      "\n",
      "\n",
      "========================================\n",
      "Evaluating Random Forest\n",
      "========================================\n"
     ]
    },
    {
     "data": {
      "image/png": "[encoded data removed]",
      "text/plain": [
       "<Figure size 800x400 with 2 Axes>"
      ]
     },
     "metadata": {},
     "output_type": "display_data"
    },
    {
     "data": {
      "image/png": "[encoded data removed]",
      "text/plain": [
       "<Figure size 1200x500 with 2 Axes>"
      ]
     },
     "metadata": {},
     "output_type": "display_data"
    },
    {
     "name": "stdout",
     "output_type": "stream",
     "text": [
      "\n",
      "Classification Report:\n",
      "              precision    recall  f1-score   support\n",
      "\n",
      "    Low Risk       0.91      0.91      0.91     58485\n",
      "   High Risk       0.91      0.91      0.91     58484\n",
      "\n",
      "    accuracy                           0.91    116969\n",
      "   macro avg       0.91      0.91      0.91    116969\n",
      "weighted avg       0.91      0.91      0.91    116969\n",
      "\n",
      "\n",
      "========================================\n",
      "Evaluating XGBoost\n",
      "========================================\n"
     ]
    },
    {
     "data": {
      "image/png": "[encoded data removed]",
      "text/plain": [
       "<Figure size 800x400 with 2 Axes>"
      ]
     },
     "metadata": {},
     "output_type": "display_data"
    },
    {
     "data": {
      "image/png": "[encoded data removed]",
      "text/plain": [
       "<Figure size 1200x500 with 2 Axes>"
      ]
     },
     "metadata": {},
     "output_type": "display_data"
    },
    {
     "name": "stdout",
     "output_type": "stream",
     "text": [
      "\n",
      "Classification Report:\n",
      "              precision    recall  f1-score   support\n",
      "\n",
      "    Low Risk       0.87      0.91      0.89     58485\n",
      "   High Risk       0.91      0.86      0.88     58484\n",
      "\n",
      "    accuracy                           0.89    116969\n",
      "   macro avg       0.89      0.89      0.89    116969\n",
      "weighted avg       0.89      0.89      0.89    116969\n",
      "\n",
      "\n",
      "========================================\n",
      "Evaluating Gradient Boosting\n",
      "========================================\n"
     ]
    },
    {
     "data": {
      "image/png": "[encoded data removed]",
      "text/plain": [
       "<Figure size 800x400 with 2 Axes>"
      ]
     },
     "metadata": {},
     "output_type": "display_data"
    },
    {
     "data": {
      "image/png": "[encoded data removed]",
      "text/plain": [
       "<Figure size 1200x500 with 2 Axes>"
      ]
     },
     "metadata": {},
     "output_type": "display_data"
    },
    {
     "name": "stdout",
     "output_type": "stream",
     "text": [
      "\n",
      "Classification Report:\n",
      "              precision    recall  f1-score   support\n",
      "\n",
      "    Low Risk       0.84      0.85      0.85     58485\n",
      "   High Risk       0.85      0.84      0.85     58484\n",
      "\n",
      "    accuracy                           0.85    116969\n",
      "   macro avg       0.85      0.85      0.85    116969\n",
      "weighted avg       0.85      0.85      0.85    116969\n",
      "\n",
      "\n",
      "========================================\n",
      "Evaluating KNN\n",
      "========================================\n"
     ]
    },
    {
     "data": {
      "image/png": "[encoded data removed]",
      "text/plain": [
       "<Figure size 800x400 with 2 Axes>"
      ]
     },
     "metadata": {},
     "output_type": "display_data"
    },
    {
     "data": {
      "image/png": "[encoded data removed]",
      "text/plain": [
       "<Figure size 1200x500 with 2 Axes>"
      ]
     },
     "metadata": {},
     "output_type": "display_data"
    },
    {
     "name": "stdout",
     "output_type": "stream",
     "text": [
      "\n",
      "Classification Report:\n",
      "              precision    recall  f1-score   support\n",
      "\n",
      "    Low Risk       0.89      0.78      0.83     58485\n",
      "   High Risk       0.81      0.91      0.85     58484\n",
      "\n",
      "    accuracy                           0.84    116969\n",
      "   macro avg       0.85      0.84      0.84    116969\n",
      "weighted avg       0.85      0.84      0.84    116969\n",
      "\n",
      "\n",
      "Model Performance Comparison:\n"
     ]
    },
    {
     "data": {
      "application/vnd.microsoft.datawrangler.viewer.v0+json": {
       "columns": [
        {
         "name": "Model",
         "rawType": "object",
         "type": "string"
        },
        {
         "name": "Accuracy",
         "rawType": "float64",
         "type": "float"
        },
        {
         "name": "Precision",
         "rawType": "float64",
         "type": "float"
        },
        {
         "name": "Recall",
         "rawType": "float64",
         "type": "float"
        },
        {
         "name": "F1 Score",
         "rawType": "float64",
         "type": "float"
        },
        {
         "name": "ROC AUC",
         "rawType": "float64",
         "type": "float"
        },
        {
         "name": "PR AUC",
         "rawType": "float64",
         "type": "float"
        }
       ],
       "ref": "e100f582-da21-4720-8e0c-54bdd3aebdcd",
       "rows": [
        [
         "Random Forest",
         "0.9093007549008711",
         "0.9063194880586628",
         "0.9129676492715957",
         "0.9096314215865823",
         "0.9628446342790715",
         "0.9592898625057713"
        ],
        [
         "XGBoost",
         "0.8865682360283494",
         "0.9098473586889525",
         "0.8581663360919226",
         "0.8832515002727769",
         "0.9600010266525204",
         "0.9661073338845187"
        ],
        [
         "Gradient Boosting",
         "0.8467200711299575",
         "0.849437350290372",
         "0.842828807879078",
         "0.8461201754310678",
         "0.9346104861743474",
         "0.9428875088761892"
        ],
        [
         "KNN",
         "0.8443091759355043",
         "0.8056217463232505",
         "0.907598659462417",
         "0.8535751903578809",
         "0.9105618301831246",
         "0.8687795253973052"
        ],
        [
         "Logistic Regression",
         "0.7571151330694458",
         "0.7459920167517341",
         "0.77971752958074",
         "0.7624820252148614",
         "0.8324408024280548",
         "0.8103704401023936"
        ]
       ],
       "shape": {
        "columns": 6,
        "rows": 5
       }
      },
      "text/html": [
       "<div>\n",
       "<style scoped>\n",
       "    .dataframe tbody tr th:only-of-type {\n",
       "        vertical-align: middle;\n",
       "    }\n",
       "\n",
       "    .dataframe tbody tr th {\n",
       "        vertical-align: top;\n",
       "    }\n",
       "\n",
       "    .dataframe thead th {\n",
       "        text-align: right;\n",
       "    }\n",
       "</style>\n",
       "<table border=\"1\" class=\"dataframe\">\n",
       "  <thead>\n",
       "    <tr style=\"text-align: right;\">\n",
       "      <th></th>\n",
       "      <th>Accuracy</th>\n",
       "      <th>Precision</th>\n",
       "      <th>Recall</th>\n",
       "      <th>F1 Score</th>\n",
       "      <th>ROC AUC</th>\n",
       "      <th>PR AUC</th>\n",
       "    </tr>\n",
       "    <tr>\n",
       "      <th>Model</th>\n",
       "      <th></th>\n",
       "      <th></th>\n",
       "      <th></th>\n",
       "      <th></th>\n",
       "      <th></th>\n",
       "      <th></th>\n",
       "    </tr>\n",
       "  </thead>\n",
       "  <tbody>\n",
       "    <tr>\n",
       "      <th>Random Forest</th>\n",
       "      <td>0.909301</td>\n",
       "      <td>0.906319</td>\n",
       "      <td>0.912968</td>\n",
       "      <td>0.909631</td>\n",
       "      <td>0.962845</td>\n",
       "      <td>0.959290</td>\n",
       "    </tr>\n",
       "    <tr>\n",
       "      <th>XGBoost</th>\n",
       "      <td>0.886568</td>\n",
       "      <td>0.909847</td>\n",
       "      <td>0.858166</td>\n",
       "      <td>0.883252</td>\n",
       "      <td>0.960001</td>\n",
       "      <td>0.966107</td>\n",
       "    </tr>\n",
       "    <tr>\n",
       "      <th>Gradient Boosting</th>\n",
       "      <td>0.846720</td>\n",
       "      <td>0.849437</td>\n",
       "      <td>0.842829</td>\n",
       "      <td>0.846120</td>\n",
       "      <td>0.934610</td>\n",
       "      <td>0.942888</td>\n",
       "    </tr>\n",
       "    <tr>\n",
       "      <th>KNN</th>\n",
       "      <td>0.844309</td>\n",
       "      <td>0.805622</td>\n",
       "      <td>0.907599</td>\n",
       "      <td>0.853575</td>\n",
       "      <td>0.910562</td>\n",
       "      <td>0.868780</td>\n",
       "    </tr>\n",
       "    <tr>\n",
       "      <th>Logistic Regression</th>\n",
       "      <td>0.757115</td>\n",
       "      <td>0.745992</td>\n",
       "      <td>0.779718</td>\n",
       "      <td>0.762482</td>\n",
       "      <td>0.832441</td>\n",
       "      <td>0.810370</td>\n",
       "    </tr>\n",
       "  </tbody>\n",
       "</table>\n",
       "</div>"
      ],
      "text/plain": [
       "                     Accuracy  Precision    Recall  F1 Score   ROC AUC  \\\n",
       "Model                                                                    \n",
       "Random Forest        0.909301   0.906319  0.912968  0.909631  0.962845   \n",
       "XGBoost              0.886568   0.909847  0.858166  0.883252  0.960001   \n",
       "Gradient Boosting    0.846720   0.849437  0.842829  0.846120  0.934610   \n",
       "KNN                  0.844309   0.805622  0.907599  0.853575  0.910562   \n",
       "Logistic Regression  0.757115   0.745992  0.779718  0.762482  0.832441   \n",
       "\n",
       "                       PR AUC  \n",
       "Model                          \n",
       "Random Forest        0.959290  \n",
       "XGBoost              0.966107  \n",
       "Gradient Boosting    0.942888  \n",
       "KNN                  0.868780  \n",
       "Logistic Regression  0.810370  "
      ]
     },
     "metadata": {},
     "output_type": "display_data"
    }
   ],
   "source": [
    "from sklearn.metrics import (accuracy_score, precision_score, recall_score, \n",
    "                           f1_score, roc_auc_score, confusion_matrix, \n",
    "                           classification_report, precision_recall_curve, \n",
    "                           average_precision_score, RocCurveDisplay)\n",
    "\n",
    "def evaluate_model(model, X_test, y_test):\n",
    "    \"\"\"Generate comprehensive evaluation metrics\"\"\"\n",
    "    y_pred = model.predict(X_test)\n",
    "    y_proba = model.predict_proba(X_test)[:,1]\n",
    "    \n",
    "    # Calculate metrics\n",
    "    metrics = {\n",
    "        'Accuracy': accuracy_score(y_test, y_pred),\n",
    "        'Precision': precision_score(y_test, y_pred),\n",
    "        'Recall': recall_score(y_test, y_pred),\n",
    "        'F1 Score': f1_score(y_test, y_pred),\n",
    "        'ROC AUC': roc_auc_score(y_test, y_proba),\n",
    "        'PR AUC': average_precision_score(y_test, y_proba)\n",
    "    }\n",
    "    \n",
    "    # Plot confusion matrix\n",
    "    plt.figure(figsize=(8, 4))\n",
    "    sns.heatmap(confusion_matrix(y_test, y_pred), \n",
    "                annot=True, fmt='d', cmap='Blues',\n",
    "                xticklabels=['Low Risk', 'High Risk'],\n",
    "                yticklabels=['Low Risk', 'High Risk'])\n",
    "    plt.title('Confusion Matrix')\n",
    "    plt.ylabel('Actual')\n",
    "    plt.xlabel('Predicted')\n",
    "    plt.show()\n",
    "    \n",
    "    # Plot ROC and PR curves\n",
    "    fig, (ax1, ax2) = plt.subplots(1, 2, figsize=(12, 5))\n",
    "    RocCurveDisplay.from_estimator(model, X_test, y_test, ax=ax1)\n",
    "    ax1.set_title('ROC Curve')\n",
    "    \n",
    "    precision, recall, _ = precision_recall_curve(y_test, y_proba)\n",
    "    ax2.plot(recall, precision, marker='.')\n",
    "    ax2.set_title('Precision-Recall Curve')\n",
    "    ax2.set_xlabel('Recall')\n",
    "    ax2.set_ylabel('Precision')\n",
    "    plt.show()\n",
    "    \n",
    "    # Classification report\n",
    "    print(\"\\nClassification Report:\")\n",
    "    print(classification_report(y_test, y_pred, \n",
    "                               target_names=['Low Risk', 'High Risk']))\n",
    "    \n",
    "    return metrics\n",
    "\n",
    "# Evaluate all models\n",
    "results = []\n",
    "for name, model in models.items():\n",
    "    print(f\"\\n{'='*40}\\nEvaluating {name}\\n{'='*40}\")\n",
    "    metrics = evaluate_model(model, X_test, y_test)\n",
    "    metrics['Model'] = name\n",
    "    results.append(metrics)\n",
    "\n",
    "# Compare all models\n",
    "results_df = pd.DataFrame(results).set_index('Model')\n",
    "print(\"\\nModel Performance Comparison:\")\n",
    "display(results_df.sort_values('ROC AUC', ascending=False))"
   ]
  },
  {
   "cell_type": "markdown",
   "id": "39972627",
   "metadata": {},
   "source": [
    "**Feature Importance Analysis**"
   ]
  },
  {
   "cell_type": "code",
   "execution_count": 154,
   "id": "8afa0122",
   "metadata": {},
   "outputs": [
    {
     "data": {
      "image/png": "[encoded data removed]",
      "text/plain": [
       "<Figure size 1000x600 with 1 Axes>"
      ]
     },
     "metadata": {},
     "output_type": "display_data"
    }
   ],
   "source": [
    "# Get best model based on ROC AUC\n",
    "best_model_name = results_df['ROC AUC'].idxmax()\n",
    "best_model = models[best_model_name]\n",
    "\n",
    "# Plot feature importance\n",
    "plt.figure(figsize=(10, 6))\n",
    "if hasattr(best_model, 'feature_importances_'):\n",
    "    # For tree-based models\n",
    "    importances = best_model.feature_importances_\n",
    "    feat_importances = pd.Series(importances, index=X.columns)\n",
    "    feat_importances.nlargest(15).plot(kind='barh')\n",
    "    plt.title(f'{best_model_name} - Top 15 Important Features')\n",
    "elif hasattr(best_model, 'coef_'):\n",
    "    # For linear models\n",
    "    coef = pd.Series(best_model.coef_[0], index=X.columns)\n",
    "    coef.abs().nlargest(15).plot(kind='barh')\n",
    "    plt.title(f'{best_model_name} - Top 15 Most Influential Features')\n",
    "plt.show()"
   ]
  },
  {
   "cell_type": "markdown",
   "id": "ace10eb9",
   "metadata": {},
   "source": [
    " **Hyperparameter Tuning**"
   ]
  },
  {
   "cell_type": "code",
   "execution_count": 155,
   "id": "63e35dc9",
   "metadata": {},
   "outputs": [
    {
     "name": "stdout",
     "output_type": "stream",
     "text": [
      "\n",
      "Tuning Random Forest...\n",
      "Best parameters: {'class_weight': 'balanced', 'max_depth': None, 'min_samples_split': 5, 'n_estimators': 200}\n",
      "Best ROC AUC: 0.9644151232949337\n",
      "\n",
      "Tuned Model Evaluation:\n"
     ]
    },
    {
     "data": {
      "image/png": "[encoded data removed]",
      "text/plain": [
       "<Figure size 800x400 with 2 Axes>"
      ]
     },
     "metadata": {},
     "output_type": "display_data"
    },
    {
     "data": {
      "image/png": "[encoded data removed]",
      "text/plain": [
       "<Figure size 1200x500 with 2 Axes>"
      ]
     },
     "metadata": {},
     "output_type": "display_data"
    },
    {
     "name": "stdout",
     "output_type": "stream",
     "text": [
      "\n",
      "Classification Report:\n",
      "              precision    recall  f1-score   support\n",
      "\n",
      "    Low Risk       0.91      0.91      0.91     58485\n",
      "   High Risk       0.91      0.91      0.91     58484\n",
      "\n",
      "    accuracy                           0.91    116969\n",
      "   macro avg       0.91      0.91      0.91    116969\n",
      "weighted avg       0.91      0.91      0.91    116969\n",
      "\n"
     ]
    }
   ],
   "source": [
    "from sklearn.model_selection import GridSearchCV\n",
    "\n",
    "if isinstance(best_model, RandomForestClassifier):\n",
    "    param_grid = {\n",
    "        'n_estimators': [100, 200],\n",
    "        'max_depth': [None, 10, 20],\n",
    "        'min_samples_split': [2, 5],\n",
    "        'class_weight': ['balanced', None]\n",
    "    }\n",
    "elif isinstance(best_model, XGBClassifier):\n",
    "    param_grid = {\n",
    "        'n_estimators': [100, 200],\n",
    "        'max_depth': [3, 6],\n",
    "        'learning_rate': [0.01, 0.1],\n",
    "        'subsample': [0.8, 1.0]\n",
    "    }\n",
    "else:\n",
    "    param_grid = {}  # Skip tuning if not implemented\n",
    "\n",
    "if param_grid:\n",
    "    print(f\"\\nTuning {best_model_name}...\")\n",
    "    grid_search = GridSearchCV(best_model, param_grid, cv=5, \n",
    "                             scoring='roc_auc', n_jobs=-1)\n",
    "    grid_search.fit(X_train, y_train)\n",
    "    \n",
    "    best_model = grid_search.best_estimator_\n",
    "    print(\"Best parameters:\", grid_search.best_params_)\n",
    "    print(\"Best ROC AUC:\", grid_search.best_score_)\n",
    "    \n",
    "    # Re-evaluate with tuned model\n",
    "    print(\"\\nTuned Model Evaluation:\")\n",
    "    evaluate_model(best_model, X_test, y_test)"
   ]
  },
  {
   "cell_type": "markdown",
   "id": "eab19ab6",
   "metadata": {},
   "source": [
    "# Saving Model and Scaler"
   ]
  },
  {
   "cell_type": "markdown",
   "id": "553e504a",
   "metadata": {},
   "source": [
    "**Load Normalized Data**"
   ]
  },
  {
   "cell_type": "code",
   "execution_count": 1,
   "id": "1d39b4ab",
   "metadata": {},
   "outputs": [
    {
     "data": {
      "application/vnd.microsoft.datawrangler.viewer.v0+json": {
       "columns": [
        {
         "name": "index",
         "rawType": "int64",
         "type": "integer"
        },
        {
         "name": "HeartDisease",
         "rawType": "int64",
         "type": "integer"
        },
        {
         "name": "BMI",
         "rawType": "float64",
         "type": "float"
        },
        {
         "name": "Smoking",
         "rawType": "int64",
         "type": "integer"
        },
        {
         "name": "AlcoholDrinking",
         "rawType": "int64",
         "type": "integer"
        },
        {
         "name": "Stroke",
         "rawType": "int64",
         "type": "integer"
        },
        {
         "name": "PhysicalHealth",
         "rawType": "float64",
         "type": "float"
        },
        {
         "name": "MentalHealth",
         "rawType": "float64",
         "type": "float"
        },
        {
         "name": "DiffWalking",
         "rawType": "int64",
         "type": "integer"
        },
        {
         "name": "Sex",
         "rawType": "int64",
         "type": "integer"
        },
        {
         "name": "AgeCategory",
         "rawType": "int64",
         "type": "integer"
        },
        {
         "name": "Diabetic",
         "rawType": "int64",
         "type": "integer"
        },
        {
         "name": "PhysicalActivity",
         "rawType": "int64",
         "type": "integer"
        },
        {
         "name": "GenHealth",
         "rawType": "int64",
         "type": "integer"
        },
        {
         "name": "SleepTime",
         "rawType": "float64",
         "type": "float"
        },
        {
         "name": "Asthma",
         "rawType": "int64",
         "type": "integer"
        },
        {
         "name": "KidneyDisease",
         "rawType": "int64",
         "type": "integer"
        },
        {
         "name": "SkinCancer",
         "rawType": "int64",
         "type": "integer"
        }
       ],
       "ref": "bbec261a-2992-41ad-9b58-bd3f5ba67e57",
       "rows": [
        [
         "0",
         "0",
         "0.0552939756127007",
         "1",
         "0",
         "0",
         "0.1",
         "1.0",
         "0",
         "0",
         "7",
         "1",
         "1",
         "3",
         "0.1739130434782608",
         "1",
         "0",
         "1"
        ],
        [
         "1",
         "0",
         "0.1004466980562598",
         "0",
         "0",
         "1",
         "0.0",
         "0.0",
         "0",
         "0",
         "12",
         "0",
         "1",
         "3",
         "0.2608695652173913",
         "0",
         "0",
         "0"
        ],
        [
         "2",
         "0",
         "0.1757817215984546",
         "1",
         "0",
         "0",
         "0.6666666666666666",
         "1.0",
         "0",
         "1",
         "9",
         "1",
         "1",
         "1",
         "0.3043478260869565",
         "1",
         "0",
         "0"
        ],
        [
         "3",
         "0",
         "0.147168900156948",
         "0",
         "0",
         "0",
         "0.0",
         "0.0",
         "0",
         "0",
         "11",
         "0",
         "0",
         "2",
         "0.217391304347826",
         "0",
         "0",
         "1"
        ],
        [
         "4",
         "0",
         "0.1411324399372208",
         "0",
         "0",
         "0",
         "0.9333333333333332",
         "0.0",
         "1",
         "0",
         "4",
         "0",
         "1",
         "3",
         "0.3043478260869565",
         "0",
         "0",
         "0"
        ]
       ],
       "shape": {
        "columns": 17,
        "rows": 5
       }
      },
      "text/html": [
       "<div>\n",
       "<style scoped>\n",
       "    .dataframe tbody tr th:only-of-type {\n",
       "        vertical-align: middle;\n",
       "    }\n",
       "\n",
       "    .dataframe tbody tr th {\n",
       "        vertical-align: top;\n",
       "    }\n",
       "\n",
       "    .dataframe thead th {\n",
       "        text-align: right;\n",
       "    }\n",
       "</style>\n",
       "<table border=\"1\" class=\"dataframe\">\n",
       "  <thead>\n",
       "    <tr style=\"text-align: right;\">\n",
       "      <th></th>\n",
       "      <th>HeartDisease</th>\n",
       "      <th>BMI</th>\n",
       "      <th>Smoking</th>\n",
       "      <th>AlcoholDrinking</th>\n",
       "      <th>Stroke</th>\n",
       "      <th>PhysicalHealth</th>\n",
       "      <th>MentalHealth</th>\n",
       "      <th>DiffWalking</th>\n",
       "      <th>Sex</th>\n",
       "      <th>AgeCategory</th>\n",
       "      <th>Diabetic</th>\n",
       "      <th>PhysicalActivity</th>\n",
       "      <th>GenHealth</th>\n",
       "      <th>SleepTime</th>\n",
       "      <th>Asthma</th>\n",
       "      <th>KidneyDisease</th>\n",
       "      <th>SkinCancer</th>\n",
       "    </tr>\n",
       "  </thead>\n",
       "  <tbody>\n",
       "    <tr>\n",
       "      <th>0</th>\n",
       "      <td>0</td>\n",
       "      <td>0.055294</td>\n",
       "      <td>1</td>\n",
       "      <td>0</td>\n",
       "      <td>0</td>\n",
       "      <td>0.100000</td>\n",
       "      <td>1.0</td>\n",
       "      <td>0</td>\n",
       "      <td>0</td>\n",
       "      <td>7</td>\n",
       "      <td>1</td>\n",
       "      <td>1</td>\n",
       "      <td>3</td>\n",
       "      <td>0.173913</td>\n",
       "      <td>1</td>\n",
       "      <td>0</td>\n",
       "      <td>1</td>\n",
       "    </tr>\n",
       "    <tr>\n",
       "      <th>1</th>\n",
       "      <td>0</td>\n",
       "      <td>0.100447</td>\n",
       "      <td>0</td>\n",
       "      <td>0</td>\n",
       "      <td>1</td>\n",
       "      <td>0.000000</td>\n",
       "      <td>0.0</td>\n",
       "      <td>0</td>\n",
       "      <td>0</td>\n",
       "      <td>12</td>\n",
       "      <td>0</td>\n",
       "      <td>1</td>\n",
       "      <td>3</td>\n",
       "      <td>0.260870</td>\n",
       "      <td>0</td>\n",
       "      <td>0</td>\n",
       "      <td>0</td>\n",
       "    </tr>\n",
       "    <tr>\n",
       "      <th>2</th>\n",
       "      <td>0</td>\n",
       "      <td>0.175782</td>\n",
       "      <td>1</td>\n",
       "      <td>0</td>\n",
       "      <td>0</td>\n",
       "      <td>0.666667</td>\n",
       "      <td>1.0</td>\n",
       "      <td>0</td>\n",
       "      <td>1</td>\n",
       "      <td>9</td>\n",
       "      <td>1</td>\n",
       "      <td>1</td>\n",
       "      <td>1</td>\n",
       "      <td>0.304348</td>\n",
       "      <td>1</td>\n",
       "      <td>0</td>\n",
       "      <td>0</td>\n",
       "    </tr>\n",
       "    <tr>\n",
       "      <th>3</th>\n",
       "      <td>0</td>\n",
       "      <td>0.147169</td>\n",
       "      <td>0</td>\n",
       "      <td>0</td>\n",
       "      <td>0</td>\n",
       "      <td>0.000000</td>\n",
       "      <td>0.0</td>\n",
       "      <td>0</td>\n",
       "      <td>0</td>\n",
       "      <td>11</td>\n",
       "      <td>0</td>\n",
       "      <td>0</td>\n",
       "      <td>2</td>\n",
       "      <td>0.217391</td>\n",
       "      <td>0</td>\n",
       "      <td>0</td>\n",
       "      <td>1</td>\n",
       "    </tr>\n",
       "    <tr>\n",
       "      <th>4</th>\n",
       "      <td>0</td>\n",
       "      <td>0.141132</td>\n",
       "      <td>0</td>\n",
       "      <td>0</td>\n",
       "      <td>0</td>\n",
       "      <td>0.933333</td>\n",
       "      <td>0.0</td>\n",
       "      <td>1</td>\n",
       "      <td>0</td>\n",
       "      <td>4</td>\n",
       "      <td>0</td>\n",
       "      <td>1</td>\n",
       "      <td>3</td>\n",
       "      <td>0.304348</td>\n",
       "      <td>0</td>\n",
       "      <td>0</td>\n",
       "      <td>0</td>\n",
       "    </tr>\n",
       "  </tbody>\n",
       "</table>\n",
       "</div>"
      ],
      "text/plain": [
       "   HeartDisease       BMI  Smoking  AlcoholDrinking  Stroke  PhysicalHealth  \\\n",
       "0             0  0.055294        1                0       0        0.100000   \n",
       "1             0  0.100447        0                0       1        0.000000   \n",
       "2             0  0.175782        1                0       0        0.666667   \n",
       "3             0  0.147169        0                0       0        0.000000   \n",
       "4             0  0.141132        0                0       0        0.933333   \n",
       "\n",
       "   MentalHealth  DiffWalking  Sex  AgeCategory  Diabetic  PhysicalActivity  \\\n",
       "0           1.0            0    0            7         1                 1   \n",
       "1           0.0            0    0           12         0                 1   \n",
       "2           1.0            0    1            9         1                 1   \n",
       "3           0.0            0    0           11         0                 0   \n",
       "4           0.0            1    0            4         0                 1   \n",
       "\n",
       "   GenHealth  SleepTime  Asthma  KidneyDisease  SkinCancer  \n",
       "0          3   0.173913       1              0           1  \n",
       "1          3   0.260870       0              0           0  \n",
       "2          1   0.304348       1              0           0  \n",
       "3          2   0.217391       0              0           1  \n",
       "4          3   0.304348       0              0           0  "
      ]
     },
     "execution_count": 1,
     "metadata": {},
     "output_type": "execute_result"
    }
   ],
   "source": [
    "import pandas as pd\n",
    "import numpy as np\n",
    "from sklearn.model_selection import train_test_split\n",
    "from sklearn.preprocessing import MinMaxScaler\n",
    "from sklearn.ensemble import RandomForestClassifier\n",
    "import joblib\n",
    "\n",
    "# Load the normalized data from the CSV file\n",
    "df = pd.read_csv('normalized_data.csv')\n",
    "\n",
    "df.head()"
   ]
  },
  {
   "cell_type": "markdown",
   "id": "ab4ffb94",
   "metadata": {},
   "source": [
    "**Save model and scaler**"
   ]
  },
  {
   "cell_type": "code",
   "execution_count": 24,
   "id": "a213e559",
   "metadata": {},
   "outputs": [
    {
     "name": "stdout",
     "output_type": "stream",
     "text": [
      "Model and scaler saved successfully!\n"
     ]
    }
   ],
   "source": [
    "import pandas as pd\n",
    "import numpy as np\n",
    "from sklearn.model_selection import train_test_split\n",
    "from sklearn.preprocessing import MinMaxScaler\n",
    "from sklearn.ensemble import RandomForestClassifier\n",
    "import joblib\n",
    "\n",
    "\n",
    "# Define features to scale\n",
    "features_to_scale = ['BMI', 'PhysicalHealth', 'MentalHealth', 'SleepTime']\n",
    "\n",
    "# Scale features\n",
    "scaler = MinMaxScaler()\n",
    "df[features_to_scale] = scaler.fit_transform(df[features_to_scale])\n",
    "\n",
    "# Save the scaler for later use\n",
    "joblib.dump(scaler, 'minmax_scaler.pkl')\n",
    "\n",
    "\n",
    "\n",
    "model = RandomForestClassifier(\n",
    "    n_estimators=30,        # reduced from hundreds\n",
    "    max_depth=8,            # shallower trees\n",
    "    max_features='sqrt',    # fewer features per split\n",
    "    random_state=42\n",
    ")\n",
    "\n",
    "# Retrain (if you have the original data)\n",
    "model.fit(X_train, y_train)\n",
    "\n",
    "# Save with compression\n",
    "joblib.dump(model, 'heart_disease_model.pkl', compress=3)\n",
    "\n",
    "\n",
    "print(\"Model and scaler saved successfully!\")"
   ]
  }
 ],
 "metadata": {
  "kernelspec": {
   "display_name": "Python 3",
   "language": "python",
   "name": "python3"
  },
  "language_info": {
   "codemirror_mode": {
    "name": "ipython",
    "version": 3
   },
   "file_extension": ".py",
   "mimetype": "text/x-python",
   "name": "python",
   "nbconvert_exporter": "python",
   "pygments_lexer": "ipython3",
   "version": "3.12.6"
  }
 },
 "nbformat": 4,
 "nbformat_minor": 5
}
